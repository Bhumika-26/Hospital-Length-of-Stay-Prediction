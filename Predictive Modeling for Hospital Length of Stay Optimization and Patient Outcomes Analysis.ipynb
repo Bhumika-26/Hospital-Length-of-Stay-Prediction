{
  "nbformat": 4,
  "nbformat_minor": 0,
  "metadata": {
    "colab": {
      "provenance": []
    },
    "kernelspec": {
      "name": "python3",
      "display_name": "Python 3"
    },
    "language_info": {
      "name": "python"
    }
  },
  "cells": [
    {
      "cell_type": "markdown",
      "source": [
        "# Importing Libraries"
      ],
      "metadata": {
        "id": "4jdw6ukv09Fp"
      }
    },
    {
      "cell_type": "code",
      "source": [
        "import pandas as pd\n",
        "import matplotlib.pyplot as plt\n",
        "import seaborn as sns\n"
      ],
      "metadata": {
        "id": "8WHhwvNLvC3I"
      },
      "execution_count": null,
      "outputs": []
    },
    {
      "cell_type": "markdown",
      "source": [
        "# G-Drive access to import csv file"
      ],
      "metadata": {
        "id": "WEtR5LrF1aOF"
      }
    },
    {
      "cell_type": "code",
      "source": [
        "!pip install -U -q PyDrive\n",
        "\n",
        "from pydrive.auth import GoogleAuth\n",
        "from pydrive.drive import GoogleDrive\n",
        "from google.colab import auth\n",
        "from oauth2client.client import GoogleCredentials\n",
        "\n",
        "#Authenticate and create the PyDrive client.\n",
        "auth.authenticate_user()\n",
        "gauth = GoogleAuth()\n",
        "gauth.credentials = GoogleCredentials.get_application_default()\n",
        "drive = GoogleDrive(gauth)\n"
      ],
      "metadata": {
        "id": "orbmeH-lOflA"
      },
      "execution_count": null,
      "outputs": []
    },
    {
      "cell_type": "code",
      "source": [
        "\n",
        "link='https://drive.google.com/file/d/1_SOEmzG6WxW96pNSGE8dVhjJouzWtNgV/view?usp=sharing'\n",
        "id = link.split(\"/\")[-2]\n",
        "\n",
        "downloaded=drive.CreateFile({'id':id})\n",
        "downloaded.GetContentFile('dataScienceTask.csv')\n",
        "bd=pd.read_csv('dataScienceTask.csv')\n",
        "display(bd)"
      ],
      "metadata": {
        "colab": {
          "base_uri": "https://localhost:8080/",
          "height": 1000
        },
        "id": "2LydnQJXWGIg",
        "outputId": "859236a6-929c-46a6-9247-9c55943042e4"
      },
      "execution_count": null,
      "outputs": [
        {
          "output_type": "stream",
          "name": "stderr",
          "text": [
            "/usr/local/lib/python3.7/dist-packages/IPython/core/interactiveshell.py:2718: DtypeWarning: Columns (10) have mixed types.Specify dtype option on import or set low_memory=False.\n",
            "  interactivity=interactivity, compiler=compiler, result=result)\n"
          ]
        },
        {
          "output_type": "display_data",
          "data": {
            "text/html": [
              "\n",
              "  <div id=\"df-ec086905-7a6b-43f6-823a-fa8f33505e42\">\n",
              "    <div class=\"colab-df-container\">\n",
              "      <div>\n",
              "<style scoped>\n",
              "    .dataframe tbody tr th:only-of-type {\n",
              "        vertical-align: middle;\n",
              "    }\n",
              "\n",
              "    .dataframe tbody tr th {\n",
              "        vertical-align: top;\n",
              "    }\n",
              "\n",
              "    .dataframe thead th {\n",
              "        text-align: right;\n",
              "    }\n",
              "</style>\n",
              "<table border=\"1\" class=\"dataframe\">\n",
              "  <thead>\n",
              "    <tr style=\"text-align: right;\">\n",
              "      <th></th>\n",
              "      <th>Health Service Area</th>\n",
              "      <th>Hospital County</th>\n",
              "      <th>Operating Certificate Number</th>\n",
              "      <th>Facility Id</th>\n",
              "      <th>Facility Name</th>\n",
              "      <th>Age Group</th>\n",
              "      <th>Zip Code - 3 digits</th>\n",
              "      <th>Gender</th>\n",
              "      <th>Race</th>\n",
              "      <th>Ethnicity</th>\n",
              "      <th>Length of Stay</th>\n",
              "      <th>Type of Admission</th>\n",
              "      <th>Patient Disposition</th>\n",
              "      <th>Discharge Year</th>\n",
              "      <th>CCS Diagnosis Code</th>\n",
              "      <th>CCS Diagnosis Description</th>\n",
              "      <th>CCS Procedure Code</th>\n",
              "      <th>CCS Procedure Description</th>\n",
              "      <th>APR DRG Code</th>\n",
              "      <th>APR DRG Description</th>\n",
              "      <th>APR MDC Code</th>\n",
              "      <th>APR MDC Description</th>\n",
              "      <th>APR Severity of Illness Code</th>\n",
              "      <th>APR Severity of Illness Description</th>\n",
              "      <th>APR Risk of Mortality</th>\n",
              "      <th>APR Medical Surgical Description</th>\n",
              "      <th>Payment Typology 1</th>\n",
              "      <th>Payment Typology 2</th>\n",
              "      <th>Payment Typology 3</th>\n",
              "      <th>Birth Weight</th>\n",
              "      <th>Abortion Edit Indicator</th>\n",
              "      <th>Emergency Department Indicator</th>\n",
              "      <th>Total Charges</th>\n",
              "      <th>Total Costs</th>\n",
              "    </tr>\n",
              "  </thead>\n",
              "  <tbody>\n",
              "    <tr>\n",
              "      <th>0</th>\n",
              "      <td>Western NY</td>\n",
              "      <td>Allegany</td>\n",
              "      <td>226700.0</td>\n",
              "      <td>37.0</td>\n",
              "      <td>Cuba Memorial Hospital Inc</td>\n",
              "      <td>70 or Older</td>\n",
              "      <td>147</td>\n",
              "      <td>F</td>\n",
              "      <td>White</td>\n",
              "      <td>Not Span/Hispanic</td>\n",
              "      <td>4</td>\n",
              "      <td>Urgent</td>\n",
              "      <td>Home or Self Care</td>\n",
              "      <td>2015</td>\n",
              "      <td>122</td>\n",
              "      <td>Pneumonia (except that caused by tuberculosis ...</td>\n",
              "      <td>0</td>\n",
              "      <td>NO PROC</td>\n",
              "      <td>139</td>\n",
              "      <td>Other pneumonia</td>\n",
              "      <td>4</td>\n",
              "      <td>Diseases and Disorders of the Respiratory System</td>\n",
              "      <td>2</td>\n",
              "      <td>Moderate</td>\n",
              "      <td>Minor</td>\n",
              "      <td>Medical</td>\n",
              "      <td>Medicare</td>\n",
              "      <td>Private Health Insurance</td>\n",
              "      <td>NaN</td>\n",
              "      <td>0</td>\n",
              "      <td>N</td>\n",
              "      <td>Y</td>\n",
              "      <td>5,333.90</td>\n",
              "      <td>4,818.42</td>\n",
              "    </tr>\n",
              "    <tr>\n",
              "      <th>1</th>\n",
              "      <td>Western NY</td>\n",
              "      <td>Allegany</td>\n",
              "      <td>226700.0</td>\n",
              "      <td>37.0</td>\n",
              "      <td>Cuba Memorial Hospital Inc</td>\n",
              "      <td>70 or Older</td>\n",
              "      <td>147</td>\n",
              "      <td>F</td>\n",
              "      <td>White</td>\n",
              "      <td>Not Span/Hispanic</td>\n",
              "      <td>4</td>\n",
              "      <td>Elective</td>\n",
              "      <td>Hosp Basd Medicare Approved Swing Bed</td>\n",
              "      <td>2015</td>\n",
              "      <td>55</td>\n",
              "      <td>Fluid and electrolyte disorders</td>\n",
              "      <td>0</td>\n",
              "      <td>NO PROC</td>\n",
              "      <td>422</td>\n",
              "      <td>Hypovolemia &amp; related electrolyte disorders</td>\n",
              "      <td>10</td>\n",
              "      <td>Endocrine, Nutritional and Metabolic Diseases ...</td>\n",
              "      <td>2</td>\n",
              "      <td>Moderate</td>\n",
              "      <td>Moderate</td>\n",
              "      <td>Medical</td>\n",
              "      <td>Medicare</td>\n",
              "      <td>NaN</td>\n",
              "      <td>NaN</td>\n",
              "      <td>0</td>\n",
              "      <td>N</td>\n",
              "      <td>Y</td>\n",
              "      <td>4,865.99</td>\n",
              "      <td>4,588.78</td>\n",
              "    </tr>\n",
              "    <tr>\n",
              "      <th>2</th>\n",
              "      <td>Western NY</td>\n",
              "      <td>Allegany</td>\n",
              "      <td>226700.0</td>\n",
              "      <td>37.0</td>\n",
              "      <td>Cuba Memorial Hospital Inc</td>\n",
              "      <td>70 or Older</td>\n",
              "      <td>147</td>\n",
              "      <td>F</td>\n",
              "      <td>White</td>\n",
              "      <td>Not Span/Hispanic</td>\n",
              "      <td>4</td>\n",
              "      <td>Urgent</td>\n",
              "      <td>Home or Self Care</td>\n",
              "      <td>2015</td>\n",
              "      <td>122</td>\n",
              "      <td>Pneumonia (except that caused by tuberculosis ...</td>\n",
              "      <td>202</td>\n",
              "      <td>ELECTROCARDIOGRAM</td>\n",
              "      <td>139</td>\n",
              "      <td>Other pneumonia</td>\n",
              "      <td>4</td>\n",
              "      <td>Diseases and Disorders of the Respiratory System</td>\n",
              "      <td>1</td>\n",
              "      <td>Minor</td>\n",
              "      <td>Minor</td>\n",
              "      <td>Medical</td>\n",
              "      <td>Medicare</td>\n",
              "      <td>Private Health Insurance</td>\n",
              "      <td>NaN</td>\n",
              "      <td>0</td>\n",
              "      <td>N</td>\n",
              "      <td>Y</td>\n",
              "      <td>5,901.54</td>\n",
              "      <td>5,559.56</td>\n",
              "    </tr>\n",
              "    <tr>\n",
              "      <th>3</th>\n",
              "      <td>Western NY</td>\n",
              "      <td>Allegany</td>\n",
              "      <td>226700.0</td>\n",
              "      <td>37.0</td>\n",
              "      <td>Cuba Memorial Hospital Inc</td>\n",
              "      <td>50 to 69</td>\n",
              "      <td>147</td>\n",
              "      <td>F</td>\n",
              "      <td>White</td>\n",
              "      <td>Not Span/Hispanic</td>\n",
              "      <td>2</td>\n",
              "      <td>Elective</td>\n",
              "      <td>Home or Self Care</td>\n",
              "      <td>2015</td>\n",
              "      <td>55</td>\n",
              "      <td>Fluid and electrolyte disorders</td>\n",
              "      <td>0</td>\n",
              "      <td>NO PROC</td>\n",
              "      <td>249</td>\n",
              "      <td>Other gastroenteritis, nausa &amp; vomiting</td>\n",
              "      <td>6</td>\n",
              "      <td>Diseases and Disorders of the Digestive System</td>\n",
              "      <td>2</td>\n",
              "      <td>Moderate</td>\n",
              "      <td>Minor</td>\n",
              "      <td>Medical</td>\n",
              "      <td>Medicare</td>\n",
              "      <td>NaN</td>\n",
              "      <td>NaN</td>\n",
              "      <td>0</td>\n",
              "      <td>N</td>\n",
              "      <td>Y</td>\n",
              "      <td>3,619.08</td>\n",
              "      <td>3,567.25</td>\n",
              "    </tr>\n",
              "    <tr>\n",
              "      <th>4</th>\n",
              "      <td>Western NY</td>\n",
              "      <td>Allegany</td>\n",
              "      <td>226700.0</td>\n",
              "      <td>37.0</td>\n",
              "      <td>Cuba Memorial Hospital Inc</td>\n",
              "      <td>70 or Older</td>\n",
              "      <td>147</td>\n",
              "      <td>M</td>\n",
              "      <td>White</td>\n",
              "      <td>Not Span/Hispanic</td>\n",
              "      <td>2</td>\n",
              "      <td>Elective</td>\n",
              "      <td>Home or Self Care</td>\n",
              "      <td>2015</td>\n",
              "      <td>122</td>\n",
              "      <td>Pneumonia (except that caused by tuberculosis ...</td>\n",
              "      <td>0</td>\n",
              "      <td>NO PROC</td>\n",
              "      <td>139</td>\n",
              "      <td>Other pneumonia</td>\n",
              "      <td>4</td>\n",
              "      <td>Diseases and Disorders of the Respiratory System</td>\n",
              "      <td>1</td>\n",
              "      <td>Minor</td>\n",
              "      <td>Moderate</td>\n",
              "      <td>Medical</td>\n",
              "      <td>Medicare</td>\n",
              "      <td>Blue Cross/Blue Shield</td>\n",
              "      <td>Private Health Insurance</td>\n",
              "      <td>0</td>\n",
              "      <td>N</td>\n",
              "      <td>Y</td>\n",
              "      <td>3,185.87</td>\n",
              "      <td>3,167.89</td>\n",
              "    </tr>\n",
              "    <tr>\n",
              "      <th>...</th>\n",
              "      <td>...</td>\n",
              "      <td>...</td>\n",
              "      <td>...</td>\n",
              "      <td>...</td>\n",
              "      <td>...</td>\n",
              "      <td>...</td>\n",
              "      <td>...</td>\n",
              "      <td>...</td>\n",
              "      <td>...</td>\n",
              "      <td>...</td>\n",
              "      <td>...</td>\n",
              "      <td>...</td>\n",
              "      <td>...</td>\n",
              "      <td>...</td>\n",
              "      <td>...</td>\n",
              "      <td>...</td>\n",
              "      <td>...</td>\n",
              "      <td>...</td>\n",
              "      <td>...</td>\n",
              "      <td>...</td>\n",
              "      <td>...</td>\n",
              "      <td>...</td>\n",
              "      <td>...</td>\n",
              "      <td>...</td>\n",
              "      <td>...</td>\n",
              "      <td>...</td>\n",
              "      <td>...</td>\n",
              "      <td>...</td>\n",
              "      <td>...</td>\n",
              "      <td>...</td>\n",
              "      <td>...</td>\n",
              "      <td>...</td>\n",
              "      <td>...</td>\n",
              "      <td>...</td>\n",
              "    </tr>\n",
              "    <tr>\n",
              "      <th>2346926</th>\n",
              "      <td>Long Island</td>\n",
              "      <td>Suffolk</td>\n",
              "      <td>5157003.0</td>\n",
              "      <td>943.0</td>\n",
              "      <td>St Catherine of Siena Hospital</td>\n",
              "      <td>70 or Older</td>\n",
              "      <td>117</td>\n",
              "      <td>M</td>\n",
              "      <td>White</td>\n",
              "      <td>Not Span/Hispanic</td>\n",
              "      <td>2</td>\n",
              "      <td>Emergency</td>\n",
              "      <td>Home or Self Care</td>\n",
              "      <td>2015</td>\n",
              "      <td>112</td>\n",
              "      <td>Transient cerebral ischemia</td>\n",
              "      <td>0</td>\n",
              "      <td>NO PROC</td>\n",
              "      <td>47</td>\n",
              "      <td>Transient ischemia</td>\n",
              "      <td>1</td>\n",
              "      <td>Diseases and Disorders of the Nervous System</td>\n",
              "      <td>2</td>\n",
              "      <td>Moderate</td>\n",
              "      <td>Moderate</td>\n",
              "      <td>Medical</td>\n",
              "      <td>Medicare</td>\n",
              "      <td>Medicare</td>\n",
              "      <td>Private Health Insurance</td>\n",
              "      <td>0</td>\n",
              "      <td>N</td>\n",
              "      <td>Y</td>\n",
              "      <td>43,494.00</td>\n",
              "      <td>5,588.26</td>\n",
              "    </tr>\n",
              "    <tr>\n",
              "      <th>2346927</th>\n",
              "      <td>Long Island</td>\n",
              "      <td>Suffolk</td>\n",
              "      <td>5157003.0</td>\n",
              "      <td>943.0</td>\n",
              "      <td>St Catherine of Siena Hospital</td>\n",
              "      <td>50 to 69</td>\n",
              "      <td>117</td>\n",
              "      <td>M</td>\n",
              "      <td>White</td>\n",
              "      <td>Not Span/Hispanic</td>\n",
              "      <td>1</td>\n",
              "      <td>Emergency</td>\n",
              "      <td>Home or Self Care</td>\n",
              "      <td>2015</td>\n",
              "      <td>54</td>\n",
              "      <td>Gout and other crystal arthropathies</td>\n",
              "      <td>159</td>\n",
              "      <td>OT DX PRCS ON MUSC/SKEL</td>\n",
              "      <td>351</td>\n",
              "      <td>Other musculoskeletal system &amp; connective tiss...</td>\n",
              "      <td>8</td>\n",
              "      <td>Diseases and Disorders of the Musculoskeletal ...</td>\n",
              "      <td>1</td>\n",
              "      <td>Minor</td>\n",
              "      <td>Minor</td>\n",
              "      <td>Medical</td>\n",
              "      <td>Private Health Insurance</td>\n",
              "      <td>NaN</td>\n",
              "      <td>NaN</td>\n",
              "      <td>0</td>\n",
              "      <td>N</td>\n",
              "      <td>Y</td>\n",
              "      <td>16,662.00</td>\n",
              "      <td>2,907.62</td>\n",
              "    </tr>\n",
              "    <tr>\n",
              "      <th>2346928</th>\n",
              "      <td>NaN</td>\n",
              "      <td>NaN</td>\n",
              "      <td>NaN</td>\n",
              "      <td>NaN</td>\n",
              "      <td>Redacted for Confidentiality</td>\n",
              "      <td>50 to 69</td>\n",
              "      <td>NaN</td>\n",
              "      <td>M</td>\n",
              "      <td>White</td>\n",
              "      <td>Unknown</td>\n",
              "      <td>2</td>\n",
              "      <td>Urgent</td>\n",
              "      <td>Home or Self Care</td>\n",
              "      <td>2015</td>\n",
              "      <td>657</td>\n",
              "      <td>Mood disorders</td>\n",
              "      <td>0</td>\n",
              "      <td>NO PROC</td>\n",
              "      <td>751</td>\n",
              "      <td>Major depressive disorders &amp; other/unspecified...</td>\n",
              "      <td>19</td>\n",
              "      <td>Mental Diseases and Disorders</td>\n",
              "      <td>1</td>\n",
              "      <td>Minor</td>\n",
              "      <td>Minor</td>\n",
              "      <td>Medical</td>\n",
              "      <td>Medicaid</td>\n",
              "      <td>NaN</td>\n",
              "      <td>NaN</td>\n",
              "      <td>0</td>\n",
              "      <td>N</td>\n",
              "      <td>N</td>\n",
              "      <td>7,142.00</td>\n",
              "      <td>1,692.55</td>\n",
              "    </tr>\n",
              "    <tr>\n",
              "      <th>2346929</th>\n",
              "      <td>Long Island</td>\n",
              "      <td>Suffolk</td>\n",
              "      <td>5157003.0</td>\n",
              "      <td>943.0</td>\n",
              "      <td>St Catherine of Siena Hospital</td>\n",
              "      <td>70 or Older</td>\n",
              "      <td>117</td>\n",
              "      <td>M</td>\n",
              "      <td>White</td>\n",
              "      <td>Not Span/Hispanic</td>\n",
              "      <td>1</td>\n",
              "      <td>Emergency</td>\n",
              "      <td>Home or Self Care</td>\n",
              "      <td>2015</td>\n",
              "      <td>106</td>\n",
              "      <td>Cardiac dysrhythmias</td>\n",
              "      <td>0</td>\n",
              "      <td>NO PROC</td>\n",
              "      <td>201</td>\n",
              "      <td>Cardiac arrhythmia &amp; conduction disorders</td>\n",
              "      <td>5</td>\n",
              "      <td>Diseases and Disorders of the Circulatory System</td>\n",
              "      <td>1</td>\n",
              "      <td>Minor</td>\n",
              "      <td>Moderate</td>\n",
              "      <td>Medical</td>\n",
              "      <td>Medicare</td>\n",
              "      <td>Medicare</td>\n",
              "      <td>Blue Cross/Blue Shield</td>\n",
              "      <td>0</td>\n",
              "      <td>N</td>\n",
              "      <td>Y</td>\n",
              "      <td>13,070.00</td>\n",
              "      <td>2,447.75</td>\n",
              "    </tr>\n",
              "    <tr>\n",
              "      <th>2346930</th>\n",
              "      <td>Long Island</td>\n",
              "      <td>Suffolk</td>\n",
              "      <td>5157003.0</td>\n",
              "      <td>943.0</td>\n",
              "      <td>St Catherine of Siena Hospital</td>\n",
              "      <td>30 to 49</td>\n",
              "      <td>117</td>\n",
              "      <td>M</td>\n",
              "      <td>White</td>\n",
              "      <td>Spanish/Hispanic</td>\n",
              "      <td>1</td>\n",
              "      <td>Emergency</td>\n",
              "      <td>Home or Self Care</td>\n",
              "      <td>2015</td>\n",
              "      <td>231</td>\n",
              "      <td>Other fractures</td>\n",
              "      <td>0</td>\n",
              "      <td>NO PROC</td>\n",
              "      <td>144</td>\n",
              "      <td>Respiratory signs, symptoms &amp; minor diagnoses</td>\n",
              "      <td>4</td>\n",
              "      <td>Diseases and Disorders of the Respiratory System</td>\n",
              "      <td>1</td>\n",
              "      <td>Minor</td>\n",
              "      <td>Minor</td>\n",
              "      <td>Medical</td>\n",
              "      <td>Self-Pay</td>\n",
              "      <td>NaN</td>\n",
              "      <td>NaN</td>\n",
              "      <td>0</td>\n",
              "      <td>N</td>\n",
              "      <td>Y</td>\n",
              "      <td>14,637.00</td>\n",
              "      <td>1,976.90</td>\n",
              "    </tr>\n",
              "  </tbody>\n",
              "</table>\n",
              "<p>2346931 rows × 34 columns</p>\n",
              "</div>\n",
              "      <button class=\"colab-df-convert\" onclick=\"convertToInteractive('df-ec086905-7a6b-43f6-823a-fa8f33505e42')\"\n",
              "              title=\"Convert this dataframe to an interactive table.\"\n",
              "              style=\"display:none;\">\n",
              "        \n",
              "  <svg xmlns=\"http://www.w3.org/2000/svg\" height=\"24px\"viewBox=\"0 0 24 24\"\n",
              "       width=\"24px\">\n",
              "    <path d=\"M0 0h24v24H0V0z\" fill=\"none\"/>\n",
              "    <path d=\"M18.56 5.44l.94 2.06.94-2.06 2.06-.94-2.06-.94-.94-2.06-.94 2.06-2.06.94zm-11 1L8.5 8.5l.94-2.06 2.06-.94-2.06-.94L8.5 2.5l-.94 2.06-2.06.94zm10 10l.94 2.06.94-2.06 2.06-.94-2.06-.94-.94-2.06-.94 2.06-2.06.94z\"/><path d=\"M17.41 7.96l-1.37-1.37c-.4-.4-.92-.59-1.43-.59-.52 0-1.04.2-1.43.59L10.3 9.45l-7.72 7.72c-.78.78-.78 2.05 0 2.83L4 21.41c.39.39.9.59 1.41.59.51 0 1.02-.2 1.41-.59l7.78-7.78 2.81-2.81c.8-.78.8-2.07 0-2.86zM5.41 20L4 18.59l7.72-7.72 1.47 1.35L5.41 20z\"/>\n",
              "  </svg>\n",
              "      </button>\n",
              "      \n",
              "  <style>\n",
              "    .colab-df-container {\n",
              "      display:flex;\n",
              "      flex-wrap:wrap;\n",
              "      gap: 12px;\n",
              "    }\n",
              "\n",
              "    .colab-df-convert {\n",
              "      background-color: #E8F0FE;\n",
              "      border: none;\n",
              "      border-radius: 50%;\n",
              "      cursor: pointer;\n",
              "      display: none;\n",
              "      fill: #1967D2;\n",
              "      height: 32px;\n",
              "      padding: 0 0 0 0;\n",
              "      width: 32px;\n",
              "    }\n",
              "\n",
              "    .colab-df-convert:hover {\n",
              "      background-color: #E2EBFA;\n",
              "      box-shadow: 0px 1px 2px rgba(60, 64, 67, 0.3), 0px 1px 3px 1px rgba(60, 64, 67, 0.15);\n",
              "      fill: #174EA6;\n",
              "    }\n",
              "\n",
              "    [theme=dark] .colab-df-convert {\n",
              "      background-color: #3B4455;\n",
              "      fill: #D2E3FC;\n",
              "    }\n",
              "\n",
              "    [theme=dark] .colab-df-convert:hover {\n",
              "      background-color: #434B5C;\n",
              "      box-shadow: 0px 1px 3px 1px rgba(0, 0, 0, 0.15);\n",
              "      filter: drop-shadow(0px 1px 2px rgba(0, 0, 0, 0.3));\n",
              "      fill: #FFFFFF;\n",
              "    }\n",
              "  </style>\n",
              "\n",
              "      <script>\n",
              "        const buttonEl =\n",
              "          document.querySelector('#df-ec086905-7a6b-43f6-823a-fa8f33505e42 button.colab-df-convert');\n",
              "        buttonEl.style.display =\n",
              "          google.colab.kernel.accessAllowed ? 'block' : 'none';\n",
              "\n",
              "        async function convertToInteractive(key) {\n",
              "          const element = document.querySelector('#df-ec086905-7a6b-43f6-823a-fa8f33505e42');\n",
              "          const dataTable =\n",
              "            await google.colab.kernel.invokeFunction('convertToInteractive',\n",
              "                                                     [key], {});\n",
              "          if (!dataTable) return;\n",
              "\n",
              "          const docLinkHtml = 'Like what you see? Visit the ' +\n",
              "            '<a target=\"_blank\" href=https://colab.research.google.com/notebooks/data_table.ipynb>data table notebook</a>'\n",
              "            + ' to learn more about interactive tables.';\n",
              "          element.innerHTML = '';\n",
              "          dataTable['output_type'] = 'display_data';\n",
              "          await google.colab.output.renderOutput(dataTable, element);\n",
              "          const docLink = document.createElement('div');\n",
              "          docLink.innerHTML = docLinkHtml;\n",
              "          element.appendChild(docLink);\n",
              "        }\n",
              "      </script>\n",
              "    </div>\n",
              "  </div>\n",
              "  "
            ],
            "text/plain": [
              "        Health Service Area Hospital County  ...  Total Charges  Total Costs\n",
              "0                Western NY        Allegany  ...       5,333.90     4,818.42\n",
              "1                Western NY        Allegany  ...       4,865.99     4,588.78\n",
              "2                Western NY        Allegany  ...       5,901.54     5,559.56\n",
              "3                Western NY        Allegany  ...       3,619.08     3,567.25\n",
              "4                Western NY        Allegany  ...       3,185.87     3,167.89\n",
              "...                     ...             ...  ...            ...          ...\n",
              "2346926         Long Island         Suffolk  ...      43,494.00     5,588.26\n",
              "2346927         Long Island         Suffolk  ...      16,662.00     2,907.62\n",
              "2346928                 NaN             NaN  ...       7,142.00     1,692.55\n",
              "2346929         Long Island         Suffolk  ...      13,070.00     2,447.75\n",
              "2346930         Long Island         Suffolk  ...      14,637.00     1,976.90\n",
              "\n",
              "[2346931 rows x 34 columns]"
            ]
          },
          "metadata": {}
        }
      ]
    },
    {
      "cell_type": "markdown",
      "source": [
        "Getting Nan values in each column."
      ],
      "metadata": {
        "id": "Lx0sYCSs1o7K"
      }
    },
    {
      "cell_type": "code",
      "source": [
        "bd.isna().sum()"
      ],
      "metadata": {
        "colab": {
          "base_uri": "https://localhost:8080/"
        },
        "id": "aKqgLj7xWChW",
        "outputId": "5e756597-aaae-4dcb-f70b-224ee8408dd6"
      },
      "execution_count": null,
      "outputs": [
        {
          "output_type": "execute_result",
          "data": {
            "text/plain": [
              "Health Service Area                       5464\n",
              "Hospital County                           5464\n",
              "Operating Certificate Number              5464\n",
              "Facility Id                               5464\n",
              "Facility Name                                0\n",
              "Age Group                                    0\n",
              "Zip Code - 3 digits                      35816\n",
              "Gender                                       0\n",
              "Race                                         0\n",
              "Ethnicity                                    0\n",
              "Length of Stay                               0\n",
              "Type of Admission                            0\n",
              "Patient Disposition                          0\n",
              "Discharge Year                               0\n",
              "CCS Diagnosis Code                           0\n",
              "CCS Diagnosis Description                    0\n",
              "CCS Procedure Code                           0\n",
              "CCS Procedure Description                    0\n",
              "APR DRG Code                                 0\n",
              "APR DRG Description                          0\n",
              "APR MDC Code                                 0\n",
              "APR MDC Description                          0\n",
              "APR Severity of Illness Code                 0\n",
              "APR Severity of Illness Description        111\n",
              "APR Risk of Mortality                      111\n",
              "APR Medical Surgical Description             0\n",
              "Payment Typology 1                           0\n",
              "Payment Typology 2                      762285\n",
              "Payment Typology 3                     1645513\n",
              "Birth Weight                                 0\n",
              "Abortion Edit Indicator                      0\n",
              "Emergency Department Indicator               0\n",
              "Total Charges                                0\n",
              "Total Costs                                  0\n",
              "dtype: int64"
            ]
          },
          "metadata": {},
          "execution_count": 4
        }
      ]
    },
    {
      "cell_type": "markdown",
      "source": [
        "# Dropping NaNs\n",
        "Since the payment typology 2 and payment typology 3 have 32.48% and 70.11% of NaN values, we can drop these columns as there would not be much loss of information. Tasks:\n",
        "\n",
        "(a) dropping all NaN values\n",
        "\n",
        "(b) replacing length of stay with values 120+ by 121\n",
        "\n",
        "(c) dropping $ sign from total costs and total charges\n",
        "\n",
        "(d) replacing zip code OOS with 999"
      ],
      "metadata": {
        "id": "AzzicbyRaVjb"
      }
    },
    {
      "cell_type": "code",
      "source": [
        "bd1=bd.drop(['Payment Typology 2','Payment Typology 3'],axis=1)\n",
        "bd1=bd1.dropna(subset=['Health Service Area','Hospital County','Operating Certificate Number','Operating Certificate Number','Facility Id','Zip Code - 3 digits','APR Severity of Illness Description','APR Risk of Mortality'])"
      ],
      "metadata": {
        "id": "gfkGZD-Wa-5b"
      },
      "execution_count": null,
      "outputs": []
    },
    {
      "cell_type": "code",
      "source": [
        "bd1.dtypes"
      ],
      "metadata": {
        "colab": {
          "base_uri": "https://localhost:8080/"
        },
        "id": "D_PUhXyQftLg",
        "outputId": "96f9a252-6db3-428a-c8d4-ee242069297f"
      },
      "execution_count": null,
      "outputs": [
        {
          "output_type": "execute_result",
          "data": {
            "text/plain": [
              "Health Service Area                     object\n",
              "Hospital County                         object\n",
              "Operating Certificate Number           float64\n",
              "Facility Id                            float64\n",
              "Facility Name                           object\n",
              "Age Group                               object\n",
              "Zip Code - 3 digits                     object\n",
              "Gender                                  object\n",
              "Race                                    object\n",
              "Ethnicity                               object\n",
              "Length of Stay                          object\n",
              "Type of Admission                       object\n",
              "Patient Disposition                     object\n",
              "Discharge Year                           int64\n",
              "CCS Diagnosis Code                       int64\n",
              "CCS Diagnosis Description               object\n",
              "CCS Procedure Code                       int64\n",
              "CCS Procedure Description               object\n",
              "APR DRG Code                             int64\n",
              "APR DRG Description                     object\n",
              "APR MDC Code                             int64\n",
              "APR MDC Description                     object\n",
              "APR Severity of Illness Code             int64\n",
              "APR Severity of Illness Description     object\n",
              "APR Risk of Mortality                   object\n",
              "APR Medical Surgical Description        object\n",
              "Payment Typology 1                      object\n",
              "Birth Weight                             int64\n",
              "Abortion Edit Indicator                 object\n",
              "Emergency Department Indicator          object\n",
              "Total Charges                           object\n",
              "Total Costs                             object\n",
              "dtype: object"
            ]
          },
          "metadata": {},
          "execution_count": 6
        }
      ]
    },
    {
      "cell_type": "code",
      "source": [
        "bd1[\"Length of Stay\"].replace({\"120 +\": \"121\"},inplace=True)"
      ],
      "metadata": {
        "id": "WbyWNfrt1AQ9"
      },
      "execution_count": null,
      "outputs": []
    },
    {
      "cell_type": "code",
      "source": [
        "bd1[\"Zip Code - 3 digits\"].replace({\"OOS\": \"999\"},inplace=True)"
      ],
      "metadata": {
        "id": "sJ08YGkv74jS"
      },
      "execution_count": null,
      "outputs": []
    },
    {
      "cell_type": "code",
      "source": [
        "bd1[\"Total Charges\"]=bd1[\"Total Charges\"].str.replace(',','')\n",
        "bd1[\"Total Costs\"]=bd1[\"Total Costs\"].str.replace(',','')\n",
        "bd1[\"Total Charges\"]=bd1[\"Total Charges\"].str.replace('$','').astype(float)\n",
        "bd1[\"Total Costs\"]=bd1[\"Total Costs\"].str.replace('$','').astype(float)"
      ],
      "metadata": {
        "id": "7aVNvdib9fvW"
      },
      "execution_count": null,
      "outputs": []
    },
    {
      "cell_type": "code",
      "source": [
        "bd1[\"Length of Stay\"]=bd1[\"Length of Stay\"].astype(int)\n",
        "bd1[\"Zip Code - 3 digits\"]=bd1[\"Zip Code - 3 digits\"].astype(int)"
      ],
      "metadata": {
        "id": "AR9alUWs-Q73"
      },
      "execution_count": null,
      "outputs": []
    },
    {
      "cell_type": "markdown",
      "source": [
        "# Newborn Dataset"
      ],
      "metadata": {
        "id": "oTQW5pO73Une"
      }
    },
    {
      "cell_type": "code",
      "source": [
        "newborn_bd=bd1[bd1['Type of Admission'].str.contains('Newborn')]"
      ],
      "metadata": {
        "id": "Rd9ExG9V-Q99"
      },
      "execution_count": null,
      "outputs": []
    },
    {
      "cell_type": "code",
      "source": [
        "newborn_bd.shape\n",
        "newborn_bd.dtypes"
      ],
      "metadata": {
        "colab": {
          "base_uri": "https://localhost:8080/"
        },
        "id": "pgIs9vvl-RAU",
        "outputId": "76ff1567-ac08-47c0-ad11-d7903915626b"
      },
      "execution_count": null,
      "outputs": [
        {
          "output_type": "execute_result",
          "data": {
            "text/plain": [
              "Health Service Area                     object\n",
              "Hospital County                         object\n",
              "Operating Certificate Number           float64\n",
              "Facility Id                            float64\n",
              "Facility Name                           object\n",
              "Age Group                               object\n",
              "Zip Code - 3 digits                      int64\n",
              "Gender                                  object\n",
              "Race                                    object\n",
              "Ethnicity                               object\n",
              "Length of Stay                           int64\n",
              "Type of Admission                       object\n",
              "Patient Disposition                     object\n",
              "Discharge Year                           int64\n",
              "CCS Diagnosis Code                       int64\n",
              "CCS Diagnosis Description               object\n",
              "CCS Procedure Code                       int64\n",
              "CCS Procedure Description               object\n",
              "APR DRG Code                             int64\n",
              "APR DRG Description                     object\n",
              "APR MDC Code                             int64\n",
              "APR MDC Description                     object\n",
              "APR Severity of Illness Code             int64\n",
              "APR Severity of Illness Description     object\n",
              "APR Risk of Mortality                   object\n",
              "APR Medical Surgical Description        object\n",
              "Payment Typology 1                      object\n",
              "Birth Weight                             int64\n",
              "Abortion Edit Indicator                 object\n",
              "Emergency Department Indicator          object\n",
              "Total Charges                          float64\n",
              "Total Costs                            float64\n",
              "dtype: object"
            ]
          },
          "metadata": {},
          "execution_count": 12
        }
      ]
    },
    {
      "cell_type": "code",
      "source": [
        "plt.scatter(newborn_bd[\"Birth Weight\"],newborn_bd[\"Length of Stay\"])\n",
        "plt.show()"
      ],
      "metadata": {
        "colab": {
          "base_uri": "https://localhost:8080/",
          "height": 265
        },
        "id": "Kbn1HSbw-RDG",
        "outputId": "4c27d062-ccf6-4bd1-ae3f-e437ebf0731b"
      },
      "execution_count": null,
      "outputs": [
        {
          "output_type": "display_data",
          "data": {
            "image/png": "[encoded data removed]",
            "text/plain": [
              "<Figure size 432x288 with 1 Axes>"
            ]
          },
          "metadata": {
            "needs_background": "light"
          }
        }
      ]
    },
    {
      "cell_type": "markdown",
      "source": [
        "As inferred from the scatterplot of the dataset, Newborn category refers to people of age 0 to 17."
      ],
      "metadata": {
        "id": "LBDk8rti32xy"
      }
    },
    {
      "cell_type": "code",
      "source": [
        "filter_LoS=newborn_bd[\"Length of Stay\"]>100\n",
        "newborn_bd1=newborn_bd[filter_LoS]"
      ],
      "metadata": {
        "id": "PjRrqzdLO23N"
      },
      "execution_count": null,
      "outputs": []
    },
    {
      "cell_type": "code",
      "source": [
        "A=newborn_bd1.groupby(['CCS Procedure Description'])['CCS Procedure Description'].count()"
      ],
      "metadata": {
        "id": "yrGcCaBlVN1E"
      },
      "execution_count": null,
      "outputs": []
    },
    {
      "cell_type": "code",
      "source": [
        "A"
      ],
      "metadata": {
        "colab": {
          "base_uri": "https://localhost:8080/"
        },
        "id": "IbpxT9ZFVN3J",
        "outputId": "2e121be9-f11d-4063-e3c8-1c5bb51a35b8"
      },
      "execution_count": null,
      "outputs": [
        {
          "output_type": "execute_result",
          "data": {
            "text/plain": [
              "CCS Procedure Description\n",
              "ABDOMINAL PARACENTESIS       1\n",
              "AORTIC RESECTION; REPL       1\n",
              "BLOOD TRANSFUSION            2\n",
              "CARDIAC PACEMAKER/DEFIB      1\n",
              "CIRCUMCISION                 3\n",
              "COLORECTAL RESECTION         4\n",
              "COLOSTOMY; TEMP/PERM         1\n",
              "DES LES RETINA/CHOROID       1\n",
              "DIAGNOSTIC SPINAL TAP        2\n",
              "ENTERAL/PARENTERAL NUTR      8\n",
              "EXCISION; LYS PERI ADHS      1\n",
              "EXTRA CIRC AUX OPEN HRT      2\n",
              "GASTROSTOMY; TEMP/PERM       2\n",
              "HEART VALVE PRCS             1\n",
              "INGUINAL/FEMORAL HERNIA      7\n",
              "IRR XCRANIAL VENT SHUNT      5\n",
              "NO PROC                      1\n",
              "OPHTHALM-/OT-OLOGIC DX       4\n",
              "OT DX RADIO & RELATED        1\n",
              "OT NON-OR THER NERV SYS      2\n",
              "OT OR LOW GI THER PRCS       6\n",
              "OT OR PRCS VES NOT HEAD     29\n",
              "OT OR RX PRCS RESP SYS       2\n",
              "OT OR UP GI THER PRCS        4\n",
              "OT ORGAN TRANSPLANTATN       1\n",
              "OT VASC CATH; NOT HEART      8\n",
              "OT VASCULAR BYP/SHUNT        2\n",
              "OTHER OR HEART PRCS          3\n",
              "OTHER OR THER NERV SYS       3\n",
              "OTHER OR THER PRCS NOSE      1\n",
              "OTHER RESP THERAPY           1\n",
              "OTHER THERAPEUTIC PRCS      17\n",
              "PLASTIC PRCS ON NOSE         1\n",
              "PROPHYLACTIC VAC/INOCUL      8\n",
              "RESP INTUB/MECH VENTIL     222\n",
              "SMALL BOWEL RESECTON         7\n",
              "TRACHE-/LARYNG-OSCOPY        2\n",
              "TRACHEOSTOMY; TEMP/PERM     16\n",
              "Name: CCS Procedure Description, dtype: int64"
            ]
          },
          "metadata": {},
          "execution_count": 16
        }
      ]
    },
    {
      "cell_type": "markdown",
      "source": [
        "From above result, we can see that the most number of procedures received by newborns is RESP INTUB/MECH VENTIL, hence we can conclude that the type of diseases for which the newborns received treatment is Respiratory.\n"
      ],
      "metadata": {
        "id": "pn9nLd3d5wwM"
      }
    },
    {
      "cell_type": "markdown",
      "source": [
        "#Comparison of Length of Stay of White women 18-29 or Black men 30-69"
      ],
      "metadata": {
        "id": "GV9We0NY9wra"
      }
    },
    {
      "cell_type": "code",
      "source": [
        "#Codes for theoretically comparing the length of stay of White women 18-29 or Black men 30-69\n",
        "#filter_q4 =  (bd1[\"Gender\"] ==\"F\")&(bd1['Race'] == \"White\") & (bd1['Age Group'] == \"18 to 29\")\n",
        "#bd2=bd1[filter_q4]\n",
        "#bd2.describe()"
      ],
      "metadata": {
        "id": "f2kKEUI9fg2C"
      },
      "execution_count": null,
      "outputs": []
    },
    {
      "cell_type": "code",
      "source": [
        "#filter1_q4 =  (bd1[\"Gender\"] ==\"M\")&(bd1['Race'] == \"Black/African American\") & ((bd1['Age Group'] == \"30 to 49\")|(bd1['Age Group'] == \"50 to 69\"))\n",
        "#bd3=bd1[filter1_q4]\n",
        "#bd3.describe()\n"
      ],
      "metadata": {
        "id": "jmRStYvDfg4d"
      },
      "execution_count": null,
      "outputs": []
    },
    {
      "cell_type": "markdown",
      "source": [
        "Using Graphs\n"
      ],
      "metadata": {
        "id": "KExd3JvXLaFy"
      }
    },
    {
      "cell_type": "code",
      "source": [
        "bd4=bd1[bd1['Gender'].str.contains('M')] # considering only males\n",
        "bd4.drop(bd4.index[bd4['Race'] == \"Other Race\"], inplace = True)#considering only black and white race and dropping other races\n",
        "bd4.drop(bd4.index[bd4['Race'] == \"Multi-racial\"], inplace = True)\n",
        "\n",
        "bd5=bd1[bd1['Gender'].str.contains('F')]#considering only females\n",
        "bd5.drop(bd5.index[bd5['Race'] == \"Other Race\"], inplace = True)#considering only black and white race and dropping other races\n",
        "bd5.drop(bd5.index[bd5['Race'] == \"Multi-racial\"], inplace = True)"
      ],
      "metadata": {
        "colab": {
          "base_uri": "https://localhost:8080/"
        },
        "id": "Ue4snWnAaL-7",
        "outputId": "0e8a7ea2-f002-4bfa-f458-9160dcb0ff40"
      },
      "execution_count": null,
      "outputs": [
        {
          "output_type": "stream",
          "name": "stderr",
          "text": [
            "/usr/local/lib/python3.7/dist-packages/pandas/core/frame.py:4174: SettingWithCopyWarning: \n",
            "A value is trying to be set on a copy of a slice from a DataFrame\n",
            "\n",
            "See the caveats in the documentation: https://pandas.pydata.org/pandas-docs/stable/user_guide/indexing.html#returning-a-view-versus-a-copy\n",
            "  errors=errors,\n"
          ]
        }
      ]
    },
    {
      "cell_type": "code",
      "source": [
        "fig, axes = plt.subplots(1, 2, figsize=(15, 6), sharey=False)\n",
        "fig.suptitle('Question-4')\n",
        "sns.boxplot(ax=axes[0],x= \"Age Group\", y=\"Length of Stay\", hue=\"Race\", data= bd4,order=['0 to 17','18 to 29','30 to 49','50 to 69','70 or older'])\n",
        "axes[0].set_title('Men')\n",
        "axes[0].set(ylim=(0,20))\n",
        "sns.boxplot(ax=axes[1],x= \"Age Group\", y=\"Length of Stay\", hue=\"Race\", data= bd5,order=['0 to 17','18 to 29','30 to 49','50 to 69','70 or older'])\n",
        "axes[1].set_title('Women')\n",
        "axes[1].set(ylim=(0,20))"
      ],
      "metadata": {
        "colab": {
          "base_uri": "https://localhost:8080/",
          "height": 449
        },
        "id": "gAgQrRz-chyF",
        "outputId": "704da9ec-183b-4085-ee3e-43f20e206ffa"
      },
      "execution_count": null,
      "outputs": [
        {
          "output_type": "execute_result",
          "data": {
            "text/plain": [
              "[(0.0, 20.0)]"
            ]
          },
          "metadata": {},
          "execution_count": 20
        },
        {
          "output_type": "display_data",
          "data": {
            "image/png": "[encoded data removed]",
            "text/plain": [
              "<Figure size 1080x432 with 2 Axes>"
            ]
          },
          "metadata": {
            "needs_background": "light"
          }
        }
      ]
    },
    {
      "cell_type": "code",
      "source": [
        "sns.catplot(data=bd5, kind=\"bar\", x=\"Age Group\", y=\"Length of Stay\", hue=\"Race\",order=['0 to 17','18 to 29','30 to 49','50 to 69','70 or older']).set(title='Women')\n"
      ],
      "metadata": {
        "colab": {
          "base_uri": "https://localhost:8080/",
          "height": 403
        },
        "id": "5a6XU-YSY7LQ",
        "outputId": "8ac0d553-85e5-4092-f611-03c863521538"
      },
      "execution_count": null,
      "outputs": [
        {
          "output_type": "execute_result",
          "data": {
            "text/plain": [
              "<seaborn.axisgrid.FacetGrid at 0x7f18a82be950>"
            ]
          },
          "metadata": {},
          "execution_count": 21
        },
        {
          "output_type": "display_data",
          "data": {
            "image/png": "[encoded data removed]",
            "text/plain": [
              "<Figure size 512.375x360 with 1 Axes>"
            ]
          },
          "metadata": {
            "needs_background": "light"
          }
        }
      ]
    },
    {
      "cell_type": "code",
      "source": [
        "sns.catplot(data=bd4, kind=\"bar\", x=\"Age Group\", y=\"Length of Stay\", hue=\"Race\",order=['0 to 17','18 to 29','30 to 49','50 to 69','70 or older']).set(title='Men')"
      ],
      "metadata": {
        "colab": {
          "base_uri": "https://localhost:8080/",
          "height": 403
        },
        "id": "K5FzeiscaXWK",
        "outputId": "8f32198d-12e6-43b8-9f71-dc54e6139218"
      },
      "execution_count": null,
      "outputs": [
        {
          "output_type": "execute_result",
          "data": {
            "text/plain": [
              "<seaborn.axisgrid.FacetGrid at 0x7f18a82a9f50>"
            ]
          },
          "metadata": {},
          "execution_count": 22
        },
        {
          "output_type": "display_data",
          "data": {
            "image/png": "[encoded data removed]",
            "text/plain": [
              "<Figure size 512.375x360 with 1 Axes>"
            ]
          },
          "metadata": {
            "needs_background": "light"
          }
        }
      ]
    },
    {
      "cell_type": "markdown",
      "source": [
        "From the above plots, it is evident that Black men of age group 30-69 have stayed longer."
      ],
      "metadata": {
        "id": "9dBfaZZb---O"
      }
    },
    {
      "cell_type": "markdown",
      "source": [
        "#The bottom 5 diagnoses with the shortest average length of stay"
      ],
      "metadata": {
        "id": "YSg0Wek2idOB"
      }
    },
    {
      "cell_type": "code",
      "source": [
        "bd6=bd1[['CCS Diagnosis Description','Length of Stay']].groupby('CCS Diagnosis Description',as_index=False).mean()\n",
        "bd6=bd6.sort_values(by='Length of Stay',ascending=True,ignore_index=True)\n",
        "display(bd6[len(bd6)-5:len(bd6)])"
      ],
      "metadata": {
        "colab": {
          "base_uri": "https://localhost:8080/",
          "height": 206
        },
        "id": "nP5HBP0EhHPP",
        "outputId": "05b5684e-c4b1-4a33-eac7-3e5d5faea507"
      },
      "execution_count": null,
      "outputs": [
        {
          "output_type": "display_data",
          "data": {
            "text/html": [
              "\n",
              "  <div id=\"df-d3077f9e-6d36-4b9f-913c-0cb3612ad08d\">\n",
              "    <div class=\"colab-df-container\">\n",
              "      <div>\n",
              "<style scoped>\n",
              "    .dataframe tbody tr th:only-of-type {\n",
              "        vertical-align: middle;\n",
              "    }\n",
              "\n",
              "    .dataframe tbody tr th {\n",
              "        vertical-align: top;\n",
              "    }\n",
              "\n",
              "    .dataframe thead th {\n",
              "        text-align: right;\n",
              "    }\n",
              "</style>\n",
              "<table border=\"1\" class=\"dataframe\">\n",
              "  <thead>\n",
              "    <tr style=\"text-align: right;\">\n",
              "      <th></th>\n",
              "      <th>CCS Diagnosis Description</th>\n",
              "      <th>Length of Stay</th>\n",
              "    </tr>\n",
              "  </thead>\n",
              "  <tbody>\n",
              "    <tr>\n",
              "      <th>254</th>\n",
              "      <td>Schizophrenia and other psychotic disorders</td>\n",
              "      <td>17.186511</td>\n",
              "    </tr>\n",
              "    <tr>\n",
              "      <th>255</th>\n",
              "      <td>Leukemias</td>\n",
              "      <td>19.810576</td>\n",
              "    </tr>\n",
              "    <tr>\n",
              "      <th>256</th>\n",
              "      <td>Tuberculosis</td>\n",
              "      <td>21.684959</td>\n",
              "    </tr>\n",
              "    <tr>\n",
              "      <th>257</th>\n",
              "      <td>Respiratory distress syndrome</td>\n",
              "      <td>23.441048</td>\n",
              "    </tr>\n",
              "    <tr>\n",
              "      <th>258</th>\n",
              "      <td>Short gestation; low birth weight; and fetal g...</td>\n",
              "      <td>31.290244</td>\n",
              "    </tr>\n",
              "  </tbody>\n",
              "</table>\n",
              "</div>\n",
              "      <button class=\"colab-df-convert\" onclick=\"convertToInteractive('df-d3077f9e-6d36-4b9f-913c-0cb3612ad08d')\"\n",
              "              title=\"Convert this dataframe to an interactive table.\"\n",
              "              style=\"display:none;\">\n",
              "        \n",
              "  <svg xmlns=\"http://www.w3.org/2000/svg\" height=\"24px\"viewBox=\"0 0 24 24\"\n",
              "       width=\"24px\">\n",
              "    <path d=\"M0 0h24v24H0V0z\" fill=\"none\"/>\n",
              "    <path d=\"M18.56 5.44l.94 2.06.94-2.06 2.06-.94-2.06-.94-.94-2.06-.94 2.06-2.06.94zm-11 1L8.5 8.5l.94-2.06 2.06-.94-2.06-.94L8.5 2.5l-.94 2.06-2.06.94zm10 10l.94 2.06.94-2.06 2.06-.94-2.06-.94-.94-2.06-.94 2.06-2.06.94z\"/><path d=\"M17.41 7.96l-1.37-1.37c-.4-.4-.92-.59-1.43-.59-.52 0-1.04.2-1.43.59L10.3 9.45l-7.72 7.72c-.78.78-.78 2.05 0 2.83L4 21.41c.39.39.9.59 1.41.59.51 0 1.02-.2 1.41-.59l7.78-7.78 2.81-2.81c.8-.78.8-2.07 0-2.86zM5.41 20L4 18.59l7.72-7.72 1.47 1.35L5.41 20z\"/>\n",
              "  </svg>\n",
              "      </button>\n",
              "      \n",
              "  <style>\n",
              "    .colab-df-container {\n",
              "      display:flex;\n",
              "      flex-wrap:wrap;\n",
              "      gap: 12px;\n",
              "    }\n",
              "\n",
              "    .colab-df-convert {\n",
              "      background-color: #E8F0FE;\n",
              "      border: none;\n",
              "      border-radius: 50%;\n",
              "      cursor: pointer;\n",
              "      display: none;\n",
              "      fill: #1967D2;\n",
              "      height: 32px;\n",
              "      padding: 0 0 0 0;\n",
              "      width: 32px;\n",
              "    }\n",
              "\n",
              "    .colab-df-convert:hover {\n",
              "      background-color: #E2EBFA;\n",
              "      box-shadow: 0px 1px 2px rgba(60, 64, 67, 0.3), 0px 1px 3px 1px rgba(60, 64, 67, 0.15);\n",
              "      fill: #174EA6;\n",
              "    }\n",
              "\n",
              "    [theme=dark] .colab-df-convert {\n",
              "      background-color: #3B4455;\n",
              "      fill: #D2E3FC;\n",
              "    }\n",
              "\n",
              "    [theme=dark] .colab-df-convert:hover {\n",
              "      background-color: #434B5C;\n",
              "      box-shadow: 0px 1px 3px 1px rgba(0, 0, 0, 0.15);\n",
              "      filter: drop-shadow(0px 1px 2px rgba(0, 0, 0, 0.3));\n",
              "      fill: #FFFFFF;\n",
              "    }\n",
              "  </style>\n",
              "\n",
              "      <script>\n",
              "        const buttonEl =\n",
              "          document.querySelector('#df-d3077f9e-6d36-4b9f-913c-0cb3612ad08d button.colab-df-convert');\n",
              "        buttonEl.style.display =\n",
              "          google.colab.kernel.accessAllowed ? 'block' : 'none';\n",
              "\n",
              "        async function convertToInteractive(key) {\n",
              "          const element = document.querySelector('#df-d3077f9e-6d36-4b9f-913c-0cb3612ad08d');\n",
              "          const dataTable =\n",
              "            await google.colab.kernel.invokeFunction('convertToInteractive',\n",
              "                                                     [key], {});\n",
              "          if (!dataTable) return;\n",
              "\n",
              "          const docLinkHtml = 'Like what you see? Visit the ' +\n",
              "            '<a target=\"_blank\" href=https://colab.research.google.com/notebooks/data_table.ipynb>data table notebook</a>'\n",
              "            + ' to learn more about interactive tables.';\n",
              "          element.innerHTML = '';\n",
              "          dataTable['output_type'] = 'display_data';\n",
              "          await google.colab.output.renderOutput(dataTable, element);\n",
              "          const docLink = document.createElement('div');\n",
              "          docLink.innerHTML = docLinkHtml;\n",
              "          element.appendChild(docLink);\n",
              "        }\n",
              "      </script>\n",
              "    </div>\n",
              "  </div>\n",
              "  "
            ],
            "text/plain": [
              "                             CCS Diagnosis Description  Length of Stay\n",
              "254        Schizophrenia and other psychotic disorders       17.186511\n",
              "255                                          Leukemias       19.810576\n",
              "256                                       Tuberculosis       21.684959\n",
              "257                      Respiratory distress syndrome       23.441048\n",
              "258  Short gestation; low birth weight; and fetal g...       31.290244"
            ]
          },
          "metadata": {}
        }
      ]
    },
    {
      "cell_type": "markdown",
      "source": [
        "#The top 5 diagnoses that cost hospitals the most money"
      ],
      "metadata": {
        "id": "xEnnS_IwkyY3"
      }
    },
    {
      "cell_type": "code",
      "source": [
        "bd7=bd1[['CCS Diagnosis Description','Total Costs']].groupby('CCS Diagnosis Description',as_index=False).mean()\n",
        "bd7=bd7.sort_values(by='Total Costs',ascending=False,ignore_index=True)\n",
        "display(bd7[0:5])"
      ],
      "metadata": {
        "colab": {
          "base_uri": "https://localhost:8080/",
          "height": 206
        },
        "id": "TUZkmEj0kBB1",
        "outputId": "bdfb235b-f3ef-42fa-c142-3c527e3451d6"
      },
      "execution_count": null,
      "outputs": [
        {
          "output_type": "display_data",
          "data": {
            "text/html": [
              "\n",
              "  <div id=\"df-399c6f8a-4776-47d4-bad5-8d3b67189553\">\n",
              "    <div class=\"colab-df-container\">\n",
              "      <div>\n",
              "<style scoped>\n",
              "    .dataframe tbody tr th:only-of-type {\n",
              "        vertical-align: middle;\n",
              "    }\n",
              "\n",
              "    .dataframe tbody tr th {\n",
              "        vertical-align: top;\n",
              "    }\n",
              "\n",
              "    .dataframe thead th {\n",
              "        text-align: right;\n",
              "    }\n",
              "</style>\n",
              "<table border=\"1\" class=\"dataframe\">\n",
              "  <thead>\n",
              "    <tr style=\"text-align: right;\">\n",
              "      <th></th>\n",
              "      <th>CCS Diagnosis Description</th>\n",
              "      <th>Total Costs</th>\n",
              "    </tr>\n",
              "  </thead>\n",
              "  <tbody>\n",
              "    <tr>\n",
              "      <th>0</th>\n",
              "      <td>Leukemias</td>\n",
              "      <td>76951.367574</td>\n",
              "    </tr>\n",
              "    <tr>\n",
              "      <th>1</th>\n",
              "      <td>Short gestation; low birth weight; and fetal g...</td>\n",
              "      <td>67843.720537</td>\n",
              "    </tr>\n",
              "    <tr>\n",
              "      <th>2</th>\n",
              "      <td>Heart valve disorders</td>\n",
              "      <td>55756.266929</td>\n",
              "    </tr>\n",
              "    <tr>\n",
              "      <th>3</th>\n",
              "      <td>Respiratory distress syndrome</td>\n",
              "      <td>54879.051703</td>\n",
              "    </tr>\n",
              "    <tr>\n",
              "      <th>4</th>\n",
              "      <td>Hodgkin`s disease</td>\n",
              "      <td>52965.968158</td>\n",
              "    </tr>\n",
              "  </tbody>\n",
              "</table>\n",
              "</div>\n",
              "      <button class=\"colab-df-convert\" onclick=\"convertToInteractive('df-399c6f8a-4776-47d4-bad5-8d3b67189553')\"\n",
              "              title=\"Convert this dataframe to an interactive table.\"\n",
              "              style=\"display:none;\">\n",
              "        \n",
              "  <svg xmlns=\"http://www.w3.org/2000/svg\" height=\"24px\"viewBox=\"0 0 24 24\"\n",
              "       width=\"24px\">\n",
              "    <path d=\"M0 0h24v24H0V0z\" fill=\"none\"/>\n",
              "    <path d=\"M18.56 5.44l.94 2.06.94-2.06 2.06-.94-2.06-.94-.94-2.06-.94 2.06-2.06.94zm-11 1L8.5 8.5l.94-2.06 2.06-.94-2.06-.94L8.5 2.5l-.94 2.06-2.06.94zm10 10l.94 2.06.94-2.06 2.06-.94-2.06-.94-.94-2.06-.94 2.06-2.06.94z\"/><path d=\"M17.41 7.96l-1.37-1.37c-.4-.4-.92-.59-1.43-.59-.52 0-1.04.2-1.43.59L10.3 9.45l-7.72 7.72c-.78.78-.78 2.05 0 2.83L4 21.41c.39.39.9.59 1.41.59.51 0 1.02-.2 1.41-.59l7.78-7.78 2.81-2.81c.8-.78.8-2.07 0-2.86zM5.41 20L4 18.59l7.72-7.72 1.47 1.35L5.41 20z\"/>\n",
              "  </svg>\n",
              "      </button>\n",
              "      \n",
              "  <style>\n",
              "    .colab-df-container {\n",
              "      display:flex;\n",
              "      flex-wrap:wrap;\n",
              "      gap: 12px;\n",
              "    }\n",
              "\n",
              "    .colab-df-convert {\n",
              "      background-color: #E8F0FE;\n",
              "      border: none;\n",
              "      border-radius: 50%;\n",
              "      cursor: pointer;\n",
              "      display: none;\n",
              "      fill: #1967D2;\n",
              "      height: 32px;\n",
              "      padding: 0 0 0 0;\n",
              "      width: 32px;\n",
              "    }\n",
              "\n",
              "    .colab-df-convert:hover {\n",
              "      background-color: #E2EBFA;\n",
              "      box-shadow: 0px 1px 2px rgba(60, 64, 67, 0.3), 0px 1px 3px 1px rgba(60, 64, 67, 0.15);\n",
              "      fill: #174EA6;\n",
              "    }\n",
              "\n",
              "    [theme=dark] .colab-df-convert {\n",
              "      background-color: #3B4455;\n",
              "      fill: #D2E3FC;\n",
              "    }\n",
              "\n",
              "    [theme=dark] .colab-df-convert:hover {\n",
              "      background-color: #434B5C;\n",
              "      box-shadow: 0px 1px 3px 1px rgba(0, 0, 0, 0.15);\n",
              "      filter: drop-shadow(0px 1px 2px rgba(0, 0, 0, 0.3));\n",
              "      fill: #FFFFFF;\n",
              "    }\n",
              "  </style>\n",
              "\n",
              "      <script>\n",
              "        const buttonEl =\n",
              "          document.querySelector('#df-399c6f8a-4776-47d4-bad5-8d3b67189553 button.colab-df-convert');\n",
              "        buttonEl.style.display =\n",
              "          google.colab.kernel.accessAllowed ? 'block' : 'none';\n",
              "\n",
              "        async function convertToInteractive(key) {\n",
              "          const element = document.querySelector('#df-399c6f8a-4776-47d4-bad5-8d3b67189553');\n",
              "          const dataTable =\n",
              "            await google.colab.kernel.invokeFunction('convertToInteractive',\n",
              "                                                     [key], {});\n",
              "          if (!dataTable) return;\n",
              "\n",
              "          const docLinkHtml = 'Like what you see? Visit the ' +\n",
              "            '<a target=\"_blank\" href=https://colab.research.google.com/notebooks/data_table.ipynb>data table notebook</a>'\n",
              "            + ' to learn more about interactive tables.';\n",
              "          element.innerHTML = '';\n",
              "          dataTable['output_type'] = 'display_data';\n",
              "          await google.colab.output.renderOutput(dataTable, element);\n",
              "          const docLink = document.createElement('div');\n",
              "          docLink.innerHTML = docLinkHtml;\n",
              "          element.appendChild(docLink);\n",
              "        }\n",
              "      </script>\n",
              "    </div>\n",
              "  </div>\n",
              "  "
            ],
            "text/plain": [
              "                           CCS Diagnosis Description   Total Costs\n",
              "0                                          Leukemias  76951.367574\n",
              "1  Short gestation; low birth weight; and fetal g...  67843.720537\n",
              "2                              Heart valve disorders  55756.266929\n",
              "3                      Respiratory distress syndrome  54879.051703\n",
              "4                                  Hodgkin`s disease  52965.968158"
            ]
          },
          "metadata": {}
        }
      ]
    },
    {
      "cell_type": "markdown",
      "source": [
        "#Correlation between the length of stay, cost and diagnosis"
      ],
      "metadata": {
        "id": "Mp_Z-3cEk02Q"
      }
    },
    {
      "cell_type": "code",
      "source": [
        "bd8=bd1[['CCS Diagnosis Description','Total Costs','Length of Stay']].groupby('CCS Diagnosis Description',as_index=False).mean()\n",
        "#bd8=bd8.sort_values(by='Total Costs',ascending=False,ignore_index=True)\n",
        "display(bd8)"
      ],
      "metadata": {
        "colab": {
          "base_uri": "https://localhost:8080/",
          "height": 424
        },
        "id": "SPLDSKHPk3El",
        "outputId": "e0471491-74c4-4ce7-a24d-fafd63085c33"
      },
      "execution_count": null,
      "outputs": [
        {
          "output_type": "display_data",
          "data": {
            "text/html": [
              "\n",
              "  <div id=\"df-b8995ccc-3b26-41a8-95bc-fc9c7e399709\">\n",
              "    <div class=\"colab-df-container\">\n",
              "      <div>\n",
              "<style scoped>\n",
              "    .dataframe tbody tr th:only-of-type {\n",
              "        vertical-align: middle;\n",
              "    }\n",
              "\n",
              "    .dataframe tbody tr th {\n",
              "        vertical-align: top;\n",
              "    }\n",
              "\n",
              "    .dataframe thead th {\n",
              "        text-align: right;\n",
              "    }\n",
              "</style>\n",
              "<table border=\"1\" class=\"dataframe\">\n",
              "  <thead>\n",
              "    <tr style=\"text-align: right;\">\n",
              "      <th></th>\n",
              "      <th>CCS Diagnosis Description</th>\n",
              "      <th>Total Costs</th>\n",
              "      <th>Length of Stay</th>\n",
              "    </tr>\n",
              "  </thead>\n",
              "  <tbody>\n",
              "    <tr>\n",
              "      <th>0</th>\n",
              "      <td>Abdominal hernia</td>\n",
              "      <td>16560.720402</td>\n",
              "      <td>4.783296</td>\n",
              "    </tr>\n",
              "    <tr>\n",
              "      <th>1</th>\n",
              "      <td>Abdominal pain</td>\n",
              "      <td>7054.719485</td>\n",
              "      <td>2.932155</td>\n",
              "    </tr>\n",
              "    <tr>\n",
              "      <th>2</th>\n",
              "      <td>Acquired foot deformities</td>\n",
              "      <td>16407.029647</td>\n",
              "      <td>3.497059</td>\n",
              "    </tr>\n",
              "    <tr>\n",
              "      <th>3</th>\n",
              "      <td>Acute and chronic tonsillitis</td>\n",
              "      <td>6529.424414</td>\n",
              "      <td>1.870349</td>\n",
              "    </tr>\n",
              "    <tr>\n",
              "      <th>4</th>\n",
              "      <td>Acute and unspecified renal failure</td>\n",
              "      <td>14521.599572</td>\n",
              "      <td>6.521208</td>\n",
              "    </tr>\n",
              "    <tr>\n",
              "      <th>...</th>\n",
              "      <td>...</td>\n",
              "      <td>...</td>\n",
              "      <td>...</td>\n",
              "    </tr>\n",
              "    <tr>\n",
              "      <th>254</th>\n",
              "      <td>Tuberculosis</td>\n",
              "      <td>52425.569553</td>\n",
              "      <td>21.684959</td>\n",
              "    </tr>\n",
              "    <tr>\n",
              "      <th>255</th>\n",
              "      <td>Umbilical cord complication</td>\n",
              "      <td>5971.342598</td>\n",
              "      <td>2.372010</td>\n",
              "    </tr>\n",
              "    <tr>\n",
              "      <th>256</th>\n",
              "      <td>Urinary tract infections</td>\n",
              "      <td>9914.639345</td>\n",
              "      <td>4.832665</td>\n",
              "    </tr>\n",
              "    <tr>\n",
              "      <th>257</th>\n",
              "      <td>Varicose veins of lower extremity</td>\n",
              "      <td>13568.092975</td>\n",
              "      <td>5.731183</td>\n",
              "    </tr>\n",
              "    <tr>\n",
              "      <th>258</th>\n",
              "      <td>Viral infection</td>\n",
              "      <td>10109.108707</td>\n",
              "      <td>3.702207</td>\n",
              "    </tr>\n",
              "  </tbody>\n",
              "</table>\n",
              "<p>259 rows × 3 columns</p>\n",
              "</div>\n",
              "      <button class=\"colab-df-convert\" onclick=\"convertToInteractive('df-b8995ccc-3b26-41a8-95bc-fc9c7e399709')\"\n",
              "              title=\"Convert this dataframe to an interactive table.\"\n",
              "              style=\"display:none;\">\n",
              "        \n",
              "  <svg xmlns=\"http://www.w3.org/2000/svg\" height=\"24px\"viewBox=\"0 0 24 24\"\n",
              "       width=\"24px\">\n",
              "    <path d=\"M0 0h24v24H0V0z\" fill=\"none\"/>\n",
              "    <path d=\"M18.56 5.44l.94 2.06.94-2.06 2.06-.94-2.06-.94-.94-2.06-.94 2.06-2.06.94zm-11 1L8.5 8.5l.94-2.06 2.06-.94-2.06-.94L8.5 2.5l-.94 2.06-2.06.94zm10 10l.94 2.06.94-2.06 2.06-.94-2.06-.94-.94-2.06-.94 2.06-2.06.94z\"/><path d=\"M17.41 7.96l-1.37-1.37c-.4-.4-.92-.59-1.43-.59-.52 0-1.04.2-1.43.59L10.3 9.45l-7.72 7.72c-.78.78-.78 2.05 0 2.83L4 21.41c.39.39.9.59 1.41.59.51 0 1.02-.2 1.41-.59l7.78-7.78 2.81-2.81c.8-.78.8-2.07 0-2.86zM5.41 20L4 18.59l7.72-7.72 1.47 1.35L5.41 20z\"/>\n",
              "  </svg>\n",
              "      </button>\n",
              "      \n",
              "  <style>\n",
              "    .colab-df-container {\n",
              "      display:flex;\n",
              "      flex-wrap:wrap;\n",
              "      gap: 12px;\n",
              "    }\n",
              "\n",
              "    .colab-df-convert {\n",
              "      background-color: #E8F0FE;\n",
              "      border: none;\n",
              "      border-radius: 50%;\n",
              "      cursor: pointer;\n",
              "      display: none;\n",
              "      fill: #1967D2;\n",
              "      height: 32px;\n",
              "      padding: 0 0 0 0;\n",
              "      width: 32px;\n",
              "    }\n",
              "\n",
              "    .colab-df-convert:hover {\n",
              "      background-color: #E2EBFA;\n",
              "      box-shadow: 0px 1px 2px rgba(60, 64, 67, 0.3), 0px 1px 3px 1px rgba(60, 64, 67, 0.15);\n",
              "      fill: #174EA6;\n",
              "    }\n",
              "\n",
              "    [theme=dark] .colab-df-convert {\n",
              "      background-color: #3B4455;\n",
              "      fill: #D2E3FC;\n",
              "    }\n",
              "\n",
              "    [theme=dark] .colab-df-convert:hover {\n",
              "      background-color: #434B5C;\n",
              "      box-shadow: 0px 1px 3px 1px rgba(0, 0, 0, 0.15);\n",
              "      filter: drop-shadow(0px 1px 2px rgba(0, 0, 0, 0.3));\n",
              "      fill: #FFFFFF;\n",
              "    }\n",
              "  </style>\n",
              "\n",
              "      <script>\n",
              "        const buttonEl =\n",
              "          document.querySelector('#df-b8995ccc-3b26-41a8-95bc-fc9c7e399709 button.colab-df-convert');\n",
              "        buttonEl.style.display =\n",
              "          google.colab.kernel.accessAllowed ? 'block' : 'none';\n",
              "\n",
              "        async function convertToInteractive(key) {\n",
              "          const element = document.querySelector('#df-b8995ccc-3b26-41a8-95bc-fc9c7e399709');\n",
              "          const dataTable =\n",
              "            await google.colab.kernel.invokeFunction('convertToInteractive',\n",
              "                                                     [key], {});\n",
              "          if (!dataTable) return;\n",
              "\n",
              "          const docLinkHtml = 'Like what you see? Visit the ' +\n",
              "            '<a target=\"_blank\" href=https://colab.research.google.com/notebooks/data_table.ipynb>data table notebook</a>'\n",
              "            + ' to learn more about interactive tables.';\n",
              "          element.innerHTML = '';\n",
              "          dataTable['output_type'] = 'display_data';\n",
              "          await google.colab.output.renderOutput(dataTable, element);\n",
              "          const docLink = document.createElement('div');\n",
              "          docLink.innerHTML = docLinkHtml;\n",
              "          element.appendChild(docLink);\n",
              "        }\n",
              "      </script>\n",
              "    </div>\n",
              "  </div>\n",
              "  "
            ],
            "text/plain": [
              "               CCS Diagnosis Description   Total Costs  Length of Stay\n",
              "0                       Abdominal hernia  16560.720402        4.783296\n",
              "1                         Abdominal pain   7054.719485        2.932155\n",
              "2              Acquired foot deformities  16407.029647        3.497059\n",
              "3          Acute and chronic tonsillitis   6529.424414        1.870349\n",
              "4    Acute and unspecified renal failure  14521.599572        6.521208\n",
              "..                                   ...           ...             ...\n",
              "254                         Tuberculosis  52425.569553       21.684959\n",
              "255          Umbilical cord complication   5971.342598        2.372010\n",
              "256             Urinary tract infections   9914.639345        4.832665\n",
              "257    Varicose veins of lower extremity  13568.092975        5.731183\n",
              "258                      Viral infection  10109.108707        3.702207\n",
              "\n",
              "[259 rows x 3 columns]"
            ]
          },
          "metadata": {}
        }
      ]
    },
    {
      "cell_type": "code",
      "source": [
        "plt.scatter(bd8[\"Total Costs\"],bd8[\"Length of Stay\"])\n",
        "plt.show()"
      ],
      "metadata": {
        "colab": {
          "base_uri": "https://localhost:8080/",
          "height": 265
        },
        "id": "vJsZMshRBewg",
        "outputId": "f5162995-ae1f-4c16-d6bf-a83b0653a74c"
      },
      "execution_count": null,
      "outputs": [
        {
          "output_type": "display_data",
          "data": {
            "image/png": "[encoded data removed]",
            "text/plain": [
              "<Figure size 432x288 with 1 Axes>"
            ]
          },
          "metadata": {
            "needs_background": "light"
          }
        }
      ]
    },
    {
      "cell_type": "code",
      "source": [
        "bd8['Total Costs'].corr(bd8['Length of Stay'])"
      ],
      "metadata": {
        "colab": {
          "base_uri": "https://localhost:8080/"
        },
        "id": "-wkczwMvmZGY",
        "outputId": "9cd07711-2adb-4c55-cf8d-7f3107208526"
      },
      "execution_count": null,
      "outputs": [
        {
          "output_type": "execute_result",
          "data": {
            "text/plain": [
              "0.8023287650414812"
            ]
          },
          "metadata": {},
          "execution_count": 27
        }
      ]
    },
    {
      "cell_type": "markdown",
      "source": [
        "From the above scatter plot and the correlation index obtained, it is clear that there exists a correlation between the length of stay, cost and diagnosis.\n"
      ],
      "metadata": {
        "id": "oZrZyhdMB0xu"
      }
    },
    {
      "cell_type": "markdown",
      "source": [
        "#Linear regression model to predict length of stay\n"
      ],
      "metadata": {
        "id": "a2HVktqVpqyd"
      }
    },
    {
      "cell_type": "code",
      "source": [
        "county = bd1['Hospital County'].unique().tolist()\n",
        "zip = bd1['Zip Code - 3 digits'].unique().tolist()\n",
        "print(\"Number of Hospital County's:\",len(county))\n",
        "print(\"Number of Zipcodes:\",len(zip))"
      ],
      "metadata": {
        "colab": {
          "base_uri": "https://localhost:8080/"
        },
        "id": "yrC3DFrPptHX",
        "outputId": "b4d4687f-febd-4a4f-d17c-b00ce6a2cb44"
      },
      "execution_count": null,
      "outputs": [
        {
          "output_type": "stream",
          "name": "stdout",
          "text": [
            "Number of Hospital County's: 57\n",
            "Number of Zipcodes: 50\n"
          ]
        }
      ]
    },
    {
      "cell_type": "code",
      "source": [
        "#Above, we can see hospital county and zipcode do not encode same info.\n",
        "\n",
        "facilities = bd1['Facility Id'].unique().tolist()\n",
        "facilityname = bd1['Facility Name'].unique().tolist()\n",
        "print(\"Number of Facility Ids:\",len(facilities))\n",
        "print(\"Number of Facility Names:\",len(facilityname))"
      ],
      "metadata": {
        "colab": {
          "base_uri": "https://localhost:8080/"
        },
        "id": "0bcCSg0sDbL2",
        "outputId": "9587e61f-2120-483a-fb27-07bc7969bd21"
      },
      "execution_count": null,
      "outputs": [
        {
          "output_type": "stream",
          "name": "stdout",
          "text": [
            "Number of Facility Ids: 213\n",
            "Number of Facility Names: 223\n"
          ]
        }
      ]
    },
    {
      "cell_type": "code",
      "source": [
        "#Above, We can see that these most likely encode the same info even though they are on off, so we'll drop the names column\n",
        "\n",
        "diag_code = bd1['CCS Diagnosis Code'].unique().tolist()\n",
        "diag_des = bd1['CCS Diagnosis Description'].unique().tolist()\n",
        "print(\"Number of Diagnosis Codes:\",len(diag_code))\n",
        "print(\"Number of Diagnosis Descriptions:\",len(diag_des))"
      ],
      "metadata": {
        "colab": {
          "base_uri": "https://localhost:8080/"
        },
        "id": "WEbCGOBDDa_v",
        "outputId": "2a8c5ce2-273f-4603-9db9-831efca41e7e"
      },
      "execution_count": null,
      "outputs": [
        {
          "output_type": "stream",
          "name": "stdout",
          "text": [
            "Number of Diagnosis Codes: 259\n",
            "Number of Diagnosis Descriptions: 259\n"
          ]
        }
      ]
    },
    {
      "cell_type": "code",
      "source": [
        "#Above, Diagnosis Codes and Descriptions encode the same info so we'll drop the descriptions.\n",
        "\n",
        "proc_code = bd1['CCS Procedure Code'].unique().tolist()\n",
        "proc_des = bd1['CCS Procedure Description'].unique().tolist()\n",
        "print(\"Number of Procedure Codes:\",len(proc_code))\n",
        "print(\"Number of Procedure Descriptions:\",len(proc_des))"
      ],
      "metadata": {
        "colab": {
          "base_uri": "https://localhost:8080/"
        },
        "id": "pU0rw01ZDa44",
        "outputId": "159f0cae-1654-4181-e493-c29d281b849f"
      },
      "execution_count": null,
      "outputs": [
        {
          "output_type": "stream",
          "name": "stdout",
          "text": [
            "Number of Procedure Codes: 230\n",
            "Number of Procedure Descriptions: 230\n"
          ]
        }
      ]
    },
    {
      "cell_type": "code",
      "source": [
        "#Above, Procedure Codes and Descriptions encode the same info so we will drop the descriptions.\n",
        "\n",
        "drg_code = bd1['APR DRG Code'].unique().tolist()\n",
        "drg_des = bd1['APR DRG Description'].unique().tolist()\n",
        "print(\"Number of DRG Codes:\",len(drg_code))\n",
        "print(\"Number of DRG Descriptions:\",len(drg_des))"
      ],
      "metadata": {
        "colab": {
          "base_uri": "https://localhost:8080/"
        },
        "id": "q5SVnjYqETzX",
        "outputId": "e46280bd-efbf-473f-b34e-e3472c45d403"
      },
      "execution_count": null,
      "outputs": [
        {
          "output_type": "stream",
          "name": "stdout",
          "text": [
            "Number of DRG Codes: 308\n",
            "Number of DRG Descriptions: 308\n"
          ]
        }
      ]
    },
    {
      "cell_type": "code",
      "source": [
        "#Above, DRG codes and Descriptions encode same info, so dropping the descriptions.\n",
        "\n",
        "mdc_code = bd1['APR MDC Code'].unique().tolist()\n",
        "mdc_des = bd1['APR MDC Description'].unique().tolist()\n",
        "print(\"Number of MDC Codes:\",len(mdc_code))\n",
        "print(\"Number of MDC Descriptions:\",len(mdc_des))\n",
        "#Same number of unique values, so drop descriptions"
      ],
      "metadata": {
        "colab": {
          "base_uri": "https://localhost:8080/"
        },
        "id": "9Ippy6O8EUkS",
        "outputId": "74260e4a-85b3-4e6e-8d94-cba718bf2e13"
      },
      "execution_count": null,
      "outputs": [
        {
          "output_type": "stream",
          "name": "stdout",
          "text": [
            "Number of MDC Codes: 24\n",
            "Number of MDC Descriptions: 24\n"
          ]
        }
      ]
    },
    {
      "cell_type": "code",
      "source": [
        "#Above, MDC codes and Descriptions encode same info, so dropping the descriptions."
      ],
      "metadata": {
        "id": "RWRWEpGse5Hh"
      },
      "execution_count": null,
      "outputs": []
    },
    {
      "cell_type": "markdown",
      "source": [
        "Creating another dataset containing only the required information and dropping the redundant columns."
      ],
      "metadata": {
        "id": "Nga7kVIeFZsB"
      }
    },
    {
      "cell_type": "code",
      "source": [
        "bd9=bd1.drop(['Zip Code - 3 digits','Facility Name','CCS Diagnosis Description','CCS Procedure Description','APR DRG Description','APR MDC Description','Discharge Year','Operating Certificate Number','Ethnicity','Hospital County','Birth Weight','Patient Disposition','APR Severity of Illness Description','Abortion Edit Indicator'],axis=1)"
      ],
      "metadata": {
        "id": "yezBdlRbe5P4"
      },
      "execution_count": null,
      "outputs": []
    },
    {
      "cell_type": "code",
      "source": [
        "bd9.shape"
      ],
      "metadata": {
        "colab": {
          "base_uri": "https://localhost:8080/"
        },
        "id": "xeMP8w9Be5Tr",
        "outputId": "773f98dc-712d-488b-ff5a-50fb1a8bf6bc"
      },
      "execution_count": null,
      "outputs": [
        {
          "output_type": "execute_result",
          "data": {
            "text/plain": [
              "(2311006, 18)"
            ]
          },
          "metadata": {},
          "execution_count": 36
        }
      ]
    },
    {
      "cell_type": "code",
      "source": [
        "bd1.shape"
      ],
      "metadata": {
        "colab": {
          "base_uri": "https://localhost:8080/"
        },
        "id": "oAUPmTQeoz3n",
        "outputId": "2440d01a-7b18-433c-83dc-5704f6e1e61c"
      },
      "execution_count": null,
      "outputs": [
        {
          "output_type": "execute_result",
          "data": {
            "text/plain": [
              "(2311006, 32)"
            ]
          },
          "metadata": {},
          "execution_count": 37
        }
      ]
    },
    {
      "cell_type": "code",
      "source": [
        "bd9.dtypes"
      ],
      "metadata": {
        "colab": {
          "base_uri": "https://localhost:8080/"
        },
        "id": "85PCydKSpuly",
        "outputId": "2bbf8006-44be-4b9c-ddbb-65eb7ecb3f72"
      },
      "execution_count": null,
      "outputs": [
        {
          "output_type": "execute_result",
          "data": {
            "text/plain": [
              "Health Service Area                  object\n",
              "Facility Id                         float64\n",
              "Age Group                            object\n",
              "Gender                               object\n",
              "Race                                 object\n",
              "Length of Stay                        int64\n",
              "Type of Admission                    object\n",
              "CCS Diagnosis Code                    int64\n",
              "CCS Procedure Code                    int64\n",
              "APR DRG Code                          int64\n",
              "APR MDC Code                          int64\n",
              "APR Severity of Illness Code          int64\n",
              "APR Risk of Mortality                object\n",
              "APR Medical Surgical Description     object\n",
              "Payment Typology 1                   object\n",
              "Emergency Department Indicator       object\n",
              "Total Charges                       float64\n",
              "Total Costs                         float64\n",
              "dtype: object"
            ]
          },
          "metadata": {},
          "execution_count": 38
        }
      ]
    },
    {
      "cell_type": "markdown",
      "source": [
        "Labelling and encoding the categorical data in dataframe."
      ],
      "metadata": {
        "id": "OEAFIBiuHS0y"
      }
    },
    {
      "cell_type": "code",
      "source": [
        "risk = {'Minor': 1, 'Moderate': 2, 'Major': 3, 'Extreme': 4}\n",
        "age = {'0 to 17': 1, '18 to 29': 2, '30 to 49': 3, '50 to 69': 4, '70 or Older': 5}\n",
        "gender={'F':1,'M':2,'U':3}\n",
        "admission={'Urgent':1,'Elective':2,'Emergency':3,'Newborn':4,'Not Available':5,'Trauma':6}\n",
        "race={'White': 1, 'Other Race': 2, 'Black/African American': 3, 'Multi-racial': 4}\n",
        "aprmsd={'Medical':1,'Surgical':2}\n",
        "\n",
        "bd9['Age Group'] = bd9['Age Group'].apply(lambda x: age[x])\n",
        "bd9['APR Risk of Mortality'] = bd9['APR Risk of Mortality'].apply(lambda x: risk[x])\n",
        "bd9['Gender'] = bd9['Gender'].apply(lambda x: gender[x])\n",
        "bd9['Type of Admission'] = bd9['Type of Admission'].apply(lambda x: admission[x])\n",
        "bd9['Race'] = bd9['Race'].apply(lambda x: race[x])\n",
        "bd9['APR Medical Surgical Description'] = bd9['APR Medical Surgical Description'].apply(lambda x: aprmsd[x])\n",
        "display(bd9)"
      ],
      "metadata": {
        "colab": {
          "base_uri": "https://localhost:8080/",
          "height": 748
        },
        "id": "DuayYBaapui3",
        "outputId": "c73d2e05-5093-4832-a798-6b0828c38811"
      },
      "execution_count": null,
      "outputs": [
        {
          "output_type": "display_data",
          "data": {
            "text/html": [
              "\n",
              "  <div id=\"df-40d88a3b-cb33-414f-b403-d9fa3af68e3b\">\n",
              "    <div class=\"colab-df-container\">\n",
              "      <div>\n",
              "<style scoped>\n",
              "    .dataframe tbody tr th:only-of-type {\n",
              "        vertical-align: middle;\n",
              "    }\n",
              "\n",
              "    .dataframe tbody tr th {\n",
              "        vertical-align: top;\n",
              "    }\n",
              "\n",
              "    .dataframe thead th {\n",
              "        text-align: right;\n",
              "    }\n",
              "</style>\n",
              "<table border=\"1\" class=\"dataframe\">\n",
              "  <thead>\n",
              "    <tr style=\"text-align: right;\">\n",
              "      <th></th>\n",
              "      <th>Health Service Area</th>\n",
              "      <th>Facility Id</th>\n",
              "      <th>Age Group</th>\n",
              "      <th>Gender</th>\n",
              "      <th>Race</th>\n",
              "      <th>Length of Stay</th>\n",
              "      <th>Type of Admission</th>\n",
              "      <th>CCS Diagnosis Code</th>\n",
              "      <th>CCS Procedure Code</th>\n",
              "      <th>APR DRG Code</th>\n",
              "      <th>APR MDC Code</th>\n",
              "      <th>APR Severity of Illness Code</th>\n",
              "      <th>APR Risk of Mortality</th>\n",
              "      <th>APR Medical Surgical Description</th>\n",
              "      <th>Payment Typology 1</th>\n",
              "      <th>Emergency Department Indicator</th>\n",
              "      <th>Total Charges</th>\n",
              "      <th>Total Costs</th>\n",
              "    </tr>\n",
              "  </thead>\n",
              "  <tbody>\n",
              "    <tr>\n",
              "      <th>0</th>\n",
              "      <td>Western NY</td>\n",
              "      <td>37.0</td>\n",
              "      <td>5</td>\n",
              "      <td>1</td>\n",
              "      <td>1</td>\n",
              "      <td>4</td>\n",
              "      <td>1</td>\n",
              "      <td>122</td>\n",
              "      <td>0</td>\n",
              "      <td>139</td>\n",
              "      <td>4</td>\n",
              "      <td>2</td>\n",
              "      <td>1</td>\n",
              "      <td>1</td>\n",
              "      <td>Medicare</td>\n",
              "      <td>Y</td>\n",
              "      <td>5333.90</td>\n",
              "      <td>4818.42</td>\n",
              "    </tr>\n",
              "    <tr>\n",
              "      <th>1</th>\n",
              "      <td>Western NY</td>\n",
              "      <td>37.0</td>\n",
              "      <td>5</td>\n",
              "      <td>1</td>\n",
              "      <td>1</td>\n",
              "      <td>4</td>\n",
              "      <td>2</td>\n",
              "      <td>55</td>\n",
              "      <td>0</td>\n",
              "      <td>422</td>\n",
              "      <td>10</td>\n",
              "      <td>2</td>\n",
              "      <td>2</td>\n",
              "      <td>1</td>\n",
              "      <td>Medicare</td>\n",
              "      <td>Y</td>\n",
              "      <td>4865.99</td>\n",
              "      <td>4588.78</td>\n",
              "    </tr>\n",
              "    <tr>\n",
              "      <th>2</th>\n",
              "      <td>Western NY</td>\n",
              "      <td>37.0</td>\n",
              "      <td>5</td>\n",
              "      <td>1</td>\n",
              "      <td>1</td>\n",
              "      <td>4</td>\n",
              "      <td>1</td>\n",
              "      <td>122</td>\n",
              "      <td>202</td>\n",
              "      <td>139</td>\n",
              "      <td>4</td>\n",
              "      <td>1</td>\n",
              "      <td>1</td>\n",
              "      <td>1</td>\n",
              "      <td>Medicare</td>\n",
              "      <td>Y</td>\n",
              "      <td>5901.54</td>\n",
              "      <td>5559.56</td>\n",
              "    </tr>\n",
              "    <tr>\n",
              "      <th>3</th>\n",
              "      <td>Western NY</td>\n",
              "      <td>37.0</td>\n",
              "      <td>4</td>\n",
              "      <td>1</td>\n",
              "      <td>1</td>\n",
              "      <td>2</td>\n",
              "      <td>2</td>\n",
              "      <td>55</td>\n",
              "      <td>0</td>\n",
              "      <td>249</td>\n",
              "      <td>6</td>\n",
              "      <td>2</td>\n",
              "      <td>1</td>\n",
              "      <td>1</td>\n",
              "      <td>Medicare</td>\n",
              "      <td>Y</td>\n",
              "      <td>3619.08</td>\n",
              "      <td>3567.25</td>\n",
              "    </tr>\n",
              "    <tr>\n",
              "      <th>4</th>\n",
              "      <td>Western NY</td>\n",
              "      <td>37.0</td>\n",
              "      <td>5</td>\n",
              "      <td>2</td>\n",
              "      <td>1</td>\n",
              "      <td>2</td>\n",
              "      <td>2</td>\n",
              "      <td>122</td>\n",
              "      <td>0</td>\n",
              "      <td>139</td>\n",
              "      <td>4</td>\n",
              "      <td>1</td>\n",
              "      <td>2</td>\n",
              "      <td>1</td>\n",
              "      <td>Medicare</td>\n",
              "      <td>Y</td>\n",
              "      <td>3185.87</td>\n",
              "      <td>3167.89</td>\n",
              "    </tr>\n",
              "    <tr>\n",
              "      <th>...</th>\n",
              "      <td>...</td>\n",
              "      <td>...</td>\n",
              "      <td>...</td>\n",
              "      <td>...</td>\n",
              "      <td>...</td>\n",
              "      <td>...</td>\n",
              "      <td>...</td>\n",
              "      <td>...</td>\n",
              "      <td>...</td>\n",
              "      <td>...</td>\n",
              "      <td>...</td>\n",
              "      <td>...</td>\n",
              "      <td>...</td>\n",
              "      <td>...</td>\n",
              "      <td>...</td>\n",
              "      <td>...</td>\n",
              "      <td>...</td>\n",
              "      <td>...</td>\n",
              "    </tr>\n",
              "    <tr>\n",
              "      <th>2346925</th>\n",
              "      <td>Long Island</td>\n",
              "      <td>943.0</td>\n",
              "      <td>5</td>\n",
              "      <td>1</td>\n",
              "      <td>1</td>\n",
              "      <td>2</td>\n",
              "      <td>3</td>\n",
              "      <td>155</td>\n",
              "      <td>0</td>\n",
              "      <td>254</td>\n",
              "      <td>6</td>\n",
              "      <td>3</td>\n",
              "      <td>3</td>\n",
              "      <td>1</td>\n",
              "      <td>Medicare</td>\n",
              "      <td>Y</td>\n",
              "      <td>18847.00</td>\n",
              "      <td>3391.16</td>\n",
              "    </tr>\n",
              "    <tr>\n",
              "      <th>2346926</th>\n",
              "      <td>Long Island</td>\n",
              "      <td>943.0</td>\n",
              "      <td>5</td>\n",
              "      <td>2</td>\n",
              "      <td>1</td>\n",
              "      <td>2</td>\n",
              "      <td>3</td>\n",
              "      <td>112</td>\n",
              "      <td>0</td>\n",
              "      <td>47</td>\n",
              "      <td>1</td>\n",
              "      <td>2</td>\n",
              "      <td>2</td>\n",
              "      <td>1</td>\n",
              "      <td>Medicare</td>\n",
              "      <td>Y</td>\n",
              "      <td>43494.00</td>\n",
              "      <td>5588.26</td>\n",
              "    </tr>\n",
              "    <tr>\n",
              "      <th>2346927</th>\n",
              "      <td>Long Island</td>\n",
              "      <td>943.0</td>\n",
              "      <td>4</td>\n",
              "      <td>2</td>\n",
              "      <td>1</td>\n",
              "      <td>1</td>\n",
              "      <td>3</td>\n",
              "      <td>54</td>\n",
              "      <td>159</td>\n",
              "      <td>351</td>\n",
              "      <td>8</td>\n",
              "      <td>1</td>\n",
              "      <td>1</td>\n",
              "      <td>1</td>\n",
              "      <td>Private Health Insurance</td>\n",
              "      <td>Y</td>\n",
              "      <td>16662.00</td>\n",
              "      <td>2907.62</td>\n",
              "    </tr>\n",
              "    <tr>\n",
              "      <th>2346929</th>\n",
              "      <td>Long Island</td>\n",
              "      <td>943.0</td>\n",
              "      <td>5</td>\n",
              "      <td>2</td>\n",
              "      <td>1</td>\n",
              "      <td>1</td>\n",
              "      <td>3</td>\n",
              "      <td>106</td>\n",
              "      <td>0</td>\n",
              "      <td>201</td>\n",
              "      <td>5</td>\n",
              "      <td>1</td>\n",
              "      <td>2</td>\n",
              "      <td>1</td>\n",
              "      <td>Medicare</td>\n",
              "      <td>Y</td>\n",
              "      <td>13070.00</td>\n",
              "      <td>2447.75</td>\n",
              "    </tr>\n",
              "    <tr>\n",
              "      <th>2346930</th>\n",
              "      <td>Long Island</td>\n",
              "      <td>943.0</td>\n",
              "      <td>3</td>\n",
              "      <td>2</td>\n",
              "      <td>1</td>\n",
              "      <td>1</td>\n",
              "      <td>3</td>\n",
              "      <td>231</td>\n",
              "      <td>0</td>\n",
              "      <td>144</td>\n",
              "      <td>4</td>\n",
              "      <td>1</td>\n",
              "      <td>1</td>\n",
              "      <td>1</td>\n",
              "      <td>Self-Pay</td>\n",
              "      <td>Y</td>\n",
              "      <td>14637.00</td>\n",
              "      <td>1976.90</td>\n",
              "    </tr>\n",
              "  </tbody>\n",
              "</table>\n",
              "<p>2311006 rows × 18 columns</p>\n",
              "</div>\n",
              "      <button class=\"colab-df-convert\" onclick=\"convertToInteractive('df-40d88a3b-cb33-414f-b403-d9fa3af68e3b')\"\n",
              "              title=\"Convert this dataframe to an interactive table.\"\n",
              "              style=\"display:none;\">\n",
              "        \n",
              "  <svg xmlns=\"http://www.w3.org/2000/svg\" height=\"24px\"viewBox=\"0 0 24 24\"\n",
              "       width=\"24px\">\n",
              "    <path d=\"M0 0h24v24H0V0z\" fill=\"none\"/>\n",
              "    <path d=\"M18.56 5.44l.94 2.06.94-2.06 2.06-.94-2.06-.94-.94-2.06-.94 2.06-2.06.94zm-11 1L8.5 8.5l.94-2.06 2.06-.94-2.06-.94L8.5 2.5l-.94 2.06-2.06.94zm10 10l.94 2.06.94-2.06 2.06-.94-2.06-.94-.94-2.06-.94 2.06-2.06.94z\"/><path d=\"M17.41 7.96l-1.37-1.37c-.4-.4-.92-.59-1.43-.59-.52 0-1.04.2-1.43.59L10.3 9.45l-7.72 7.72c-.78.78-.78 2.05 0 2.83L4 21.41c.39.39.9.59 1.41.59.51 0 1.02-.2 1.41-.59l7.78-7.78 2.81-2.81c.8-.78.8-2.07 0-2.86zM5.41 20L4 18.59l7.72-7.72 1.47 1.35L5.41 20z\"/>\n",
              "  </svg>\n",
              "      </button>\n",
              "      \n",
              "  <style>\n",
              "    .colab-df-container {\n",
              "      display:flex;\n",
              "      flex-wrap:wrap;\n",
              "      gap: 12px;\n",
              "    }\n",
              "\n",
              "    .colab-df-convert {\n",
              "      background-color: #E8F0FE;\n",
              "      border: none;\n",
              "      border-radius: 50%;\n",
              "      cursor: pointer;\n",
              "      display: none;\n",
              "      fill: #1967D2;\n",
              "      height: 32px;\n",
              "      padding: 0 0 0 0;\n",
              "      width: 32px;\n",
              "    }\n",
              "\n",
              "    .colab-df-convert:hover {\n",
              "      background-color: #E2EBFA;\n",
              "      box-shadow: 0px 1px 2px rgba(60, 64, 67, 0.3), 0px 1px 3px 1px rgba(60, 64, 67, 0.15);\n",
              "      fill: #174EA6;\n",
              "    }\n",
              "\n",
              "    [theme=dark] .colab-df-convert {\n",
              "      background-color: #3B4455;\n",
              "      fill: #D2E3FC;\n",
              "    }\n",
              "\n",
              "    [theme=dark] .colab-df-convert:hover {\n",
              "      background-color: #434B5C;\n",
              "      box-shadow: 0px 1px 3px 1px rgba(0, 0, 0, 0.15);\n",
              "      filter: drop-shadow(0px 1px 2px rgba(0, 0, 0, 0.3));\n",
              "      fill: #FFFFFF;\n",
              "    }\n",
              "  </style>\n",
              "\n",
              "      <script>\n",
              "        const buttonEl =\n",
              "          document.querySelector('#df-40d88a3b-cb33-414f-b403-d9fa3af68e3b button.colab-df-convert');\n",
              "        buttonEl.style.display =\n",
              "          google.colab.kernel.accessAllowed ? 'block' : 'none';\n",
              "\n",
              "        async function convertToInteractive(key) {\n",
              "          const element = document.querySelector('#df-40d88a3b-cb33-414f-b403-d9fa3af68e3b');\n",
              "          const dataTable =\n",
              "            await google.colab.kernel.invokeFunction('convertToInteractive',\n",
              "                                                     [key], {});\n",
              "          if (!dataTable) return;\n",
              "\n",
              "          const docLinkHtml = 'Like what you see? Visit the ' +\n",
              "            '<a target=\"_blank\" href=https://colab.research.google.com/notebooks/data_table.ipynb>data table notebook</a>'\n",
              "            + ' to learn more about interactive tables.';\n",
              "          element.innerHTML = '';\n",
              "          dataTable['output_type'] = 'display_data';\n",
              "          await google.colab.output.renderOutput(dataTable, element);\n",
              "          const docLink = document.createElement('div');\n",
              "          docLink.innerHTML = docLinkHtml;\n",
              "          element.appendChild(docLink);\n",
              "        }\n",
              "      </script>\n",
              "    </div>\n",
              "  </div>\n",
              "  "
            ],
            "text/plain": [
              "        Health Service Area  Facility Id  ...  Total Charges  Total Costs\n",
              "0                Western NY         37.0  ...        5333.90      4818.42\n",
              "1                Western NY         37.0  ...        4865.99      4588.78\n",
              "2                Western NY         37.0  ...        5901.54      5559.56\n",
              "3                Western NY         37.0  ...        3619.08      3567.25\n",
              "4                Western NY         37.0  ...        3185.87      3167.89\n",
              "...                     ...          ...  ...            ...          ...\n",
              "2346925         Long Island        943.0  ...       18847.00      3391.16\n",
              "2346926         Long Island        943.0  ...       43494.00      5588.26\n",
              "2346927         Long Island        943.0  ...       16662.00      2907.62\n",
              "2346929         Long Island        943.0  ...       13070.00      2447.75\n",
              "2346930         Long Island        943.0  ...       14637.00      1976.90\n",
              "\n",
              "[2311006 rows x 18 columns]"
            ]
          },
          "metadata": {}
        }
      ]
    },
    {
      "cell_type": "markdown",
      "source": [
        "One-hot encoding of all columns whose dtype is object is performed."
      ],
      "metadata": {
        "id": "hiLZpl5yPjgm"
      }
    },
    {
      "cell_type": "code",
      "source": [
        "bd10=pd.get_dummies(bd9)\n",
        "bd10['Facility Id']=bd10['Facility Id'].astype(int)\n",
        "bd10.dtypes\n",
        "bd11=bd10.copy()"
      ],
      "metadata": {
        "id": "GnPreqzIpufQ"
      },
      "execution_count": null,
      "outputs": []
    },
    {
      "cell_type": "code",
      "source": [
        "bd10['Facility Id'] = bd10['Facility Id'].astype('category')\n",
        "bd10['CCS Diagnosis Code'] = bd10['CCS Diagnosis Code'].astype('category')\n",
        "bd10['CCS Procedure Code'] = bd10['CCS Procedure Code'].astype('category')\n",
        "bd10['APR DRG Code'] = bd10['APR DRG Code'].astype('category')\n",
        "bd10['APR MDC Code'] = bd10['APR MDC Code'].astype('category')\n",
        "bd10['APR Severity of Illness Code'] = bd10['APR Severity of Illness Code'].astype('category')"
      ],
      "metadata": {
        "id": "gwuc0MxFpuc0"
      },
      "execution_count": null,
      "outputs": []
    },
    {
      "cell_type": "code",
      "source": [
        "bd10.columns"
      ],
      "metadata": {
        "colab": {
          "base_uri": "https://localhost:8080/"
        },
        "id": "lp0zmCAxpuap",
        "outputId": "07dbdcf4-746f-48b1-c0ac-3da8484b52cd"
      },
      "execution_count": null,
      "outputs": [
        {
          "output_type": "execute_result",
          "data": {
            "text/plain": [
              "Index(['Facility Id', 'Age Group', 'Gender', 'Race', 'Length of Stay',\n",
              "       'Type of Admission', 'CCS Diagnosis Code', 'CCS Procedure Code',\n",
              "       'APR DRG Code', 'APR MDC Code', 'APR Severity of Illness Code',\n",
              "       'APR Risk of Mortality', 'APR Medical Surgical Description',\n",
              "       'Total Charges', 'Total Costs', 'Health Service Area_Capital/Adirond',\n",
              "       'Health Service Area_Central NY', 'Health Service Area_Finger Lakes',\n",
              "       'Health Service Area_Hudson Valley', 'Health Service Area_Long Island',\n",
              "       'Health Service Area_New York City',\n",
              "       'Health Service Area_Southern Tier', 'Health Service Area_Western NY',\n",
              "       'Payment Typology 1_Blue Cross/Blue Shield',\n",
              "       'Payment Typology 1_Department of Corrections',\n",
              "       'Payment Typology 1_Federal/State/Local/VA',\n",
              "       'Payment Typology 1_Managed Care, Unspecified',\n",
              "       'Payment Typology 1_Medicaid', 'Payment Typology 1_Medicare',\n",
              "       'Payment Typology 1_Miscellaneous/Other',\n",
              "       'Payment Typology 1_Private Health Insurance',\n",
              "       'Payment Typology 1_Self-Pay', 'Payment Typology 1_Unknown',\n",
              "       'Emergency Department Indicator_N', 'Emergency Department Indicator_Y'],\n",
              "      dtype='object')"
            ]
          },
          "metadata": {},
          "execution_count": 42
        }
      ]
    },
    {
      "cell_type": "code",
      "source": [
        "from sklearn.model_selection import train_test_split\n",
        "import numpy as np\n",
        "\n",
        "X = bd10.drop(['Length of Stay','Total Charges','Total Costs'], axis=1) #remove data leakage features\n",
        "y = bd10[['Length of Stay']]\n",
        "\n",
        "Xdata=X[['Facility Id', 'Age Group', 'Gender', 'Race',\n",
        "       'Type of Admission', 'CCS Diagnosis Code', 'CCS Procedure Code',\n",
        "       'APR DRG Code', 'APR MDC Code', 'APR Severity of Illness Code',\n",
        "       'APR Risk of Mortality', 'APR Medical Surgical Description',\n",
        "       'Health Service Area_Capital/Adirond',\n",
        "       'Health Service Area_Central NY', 'Health Service Area_Finger Lakes',\n",
        "       'Health Service Area_Hudson Valley', 'Health Service Area_Long Island',\n",
        "       'Health Service Area_New York City',\n",
        "       'Health Service Area_Southern Tier', 'Health Service Area_Western NY',\n",
        "       'Payment Typology 1_Blue Cross/Blue Shield',\n",
        "       'Payment Typology 1_Department of Corrections',\n",
        "       'Payment Typology 1_Federal/State/Local/VA',\n",
        "       'Payment Typology 1_Managed Care, Unspecified',\n",
        "       'Payment Typology 1_Medicaid', 'Payment Typology 1_Medicare',\n",
        "       'Payment Typology 1_Miscellaneous/Other',\n",
        "       'Payment Typology 1_Private Health Insurance',\n",
        "       'Payment Typology 1_Self-Pay', 'Payment Typology 1_Unknown',\n",
        "       'Emergency Department Indicator_N', 'Emergency Department Indicator_Y']].values\n",
        "ydata=y['Length of Stay']\n",
        "X_train, X_test, y_train, y_test = train_test_split(Xdata, ydata, test_size=0.3)\n"
      ],
      "metadata": {
        "id": "1-abg99F9Six"
      },
      "execution_count": null,
      "outputs": []
    },
    {
      "cell_type": "code",
      "source": [
        "from sklearn.linear_model import LinearRegression\n",
        "from sklearn.metrics import mean_squared_error\n",
        "from sklearn.metrics import accuracy_score\n"
      ],
      "metadata": {
        "id": "7-tZCj6r9Sqi"
      },
      "execution_count": null,
      "outputs": []
    },
    {
      "cell_type": "code",
      "source": [
        "reg = LinearRegression().fit(X_train, y_train)"
      ],
      "metadata": {
        "id": "ENgRawit9SwW"
      },
      "execution_count": null,
      "outputs": []
    },
    {
      "cell_type": "code",
      "source": [
        "y_train_pred = reg.predict(X_train)\n",
        "y_pred = reg.predict(X_test)"
      ],
      "metadata": {
        "id": "EXWAUGH_-eoa"
      },
      "execution_count": null,
      "outputs": []
    },
    {
      "cell_type": "code",
      "source": [
        "mse_test = mean_squared_error(y_test, y_pred)\n",
        "mse_train = mean_squared_error(y_train, y_train_pred)\n",
        "y_round_pred = np.ndarray.round(y_pred)\n",
        "y_round_train_pred = np.ndarray.round(y_train_pred)\n",
        "test_acc = accuracy_score(y_test, y_round_pred)\n",
        "train_acc = accuracy_score(y_train, y_round_train_pred)\n",
        "print(mse_test)\n",
        "print(mse_train)\n",
        "print('Test accuracy:', test_acc)\n",
        "print('Train accuracy:', train_acc)"
      ],
      "metadata": {
        "colab": {
          "base_uri": "https://localhost:8080/"
        },
        "id": "3Z-ImkVA-esc",
        "outputId": "e55b721a-3aca-49df-eab4-d0f9c940e4ac"
      },
      "execution_count": null,
      "outputs": [
        {
          "output_type": "stream",
          "name": "stdout",
          "text": [
            "51.204412902909155\n",
            "52.42162725650535\n",
            "Test accuracy: 0.14180256223117776\n",
            "Train accuracy: 0.14138742316270467\n"
          ]
        }
      ]
    },
    {
      "cell_type": "code",
      "source": [
        "X_train.shape"
      ],
      "metadata": {
        "colab": {
          "base_uri": "https://localhost:8080/"
        },
        "id": "4zLXuxbWkdI8",
        "outputId": "a1058ffb-4914-4a71-a36a-332dbc5ad697"
      },
      "execution_count": null,
      "outputs": [
        {
          "output_type": "execute_result",
          "data": {
            "text/plain": [
              "(1617704, 32)"
            ]
          },
          "metadata": {},
          "execution_count": 48
        }
      ]
    },
    {
      "cell_type": "code",
      "source": [
        "y_train.shape\n"
      ],
      "metadata": {
        "colab": {
          "base_uri": "https://localhost:8080/"
        },
        "id": "X4SNkgSElPEb",
        "outputId": "01ae4b0a-0bae-4179-90a7-4d41160a0663"
      },
      "execution_count": null,
      "outputs": [
        {
          "output_type": "execute_result",
          "data": {
            "text/plain": [
              "(1617704,)"
            ]
          },
          "metadata": {},
          "execution_count": 49
        }
      ]
    },
    {
      "cell_type": "code",
      "source": [
        "X_test.shape"
      ],
      "metadata": {
        "colab": {
          "base_uri": "https://localhost:8080/"
        },
        "id": "K0NKDXh859Jk",
        "outputId": "b5222f31-c92f-4de0-bf52-1eba06fb63d5"
      },
      "execution_count": null,
      "outputs": [
        {
          "output_type": "execute_result",
          "data": {
            "text/plain": [
              "(693302, 32)"
            ]
          },
          "metadata": {},
          "execution_count": 50
        }
      ]
    },
    {
      "cell_type": "code",
      "source": [
        "y_test.shape"
      ],
      "metadata": {
        "colab": {
          "base_uri": "https://localhost:8080/"
        },
        "id": "T25sTNfW59M7",
        "outputId": "be8a34e9-f31c-4191-e66e-d8cc9d9c701e"
      },
      "execution_count": null,
      "outputs": [
        {
          "output_type": "execute_result",
          "data": {
            "text/plain": [
              "(693302,)"
            ]
          },
          "metadata": {},
          "execution_count": 51
        }
      ]
    },
    {
      "cell_type": "markdown",
      "source": [
        "#PCA (Principal Component Analysis)\n",
        "Let us see if PCA can improve future model results and efficiency by scaling and reducing the dimensionality of the data."
      ],
      "metadata": {
        "id": "EpEMgKI6K69O"
      }
    },
    {
      "cell_type": "code",
      "source": [
        "from sklearn.preprocessing import StandardScaler"
      ],
      "metadata": {
        "id": "qTpDZaymxHEs"
      },
      "execution_count": null,
      "outputs": []
    },
    {
      "cell_type": "code",
      "source": [
        "X_train, X_test, y_train, y_test = train_test_split(X, y, test_size=0.3)"
      ],
      "metadata": {
        "id": "yjkoTmWIMYyD"
      },
      "execution_count": null,
      "outputs": []
    },
    {
      "cell_type": "code",
      "source": [
        "scaler=StandardScaler()\n",
        "scaler.fit(X_train)\n",
        "scaled_X=scaler.transform(X_train)\n",
        "scaled_X"
      ],
      "metadata": {
        "colab": {
          "base_uri": "https://localhost:8080/"
        },
        "id": "BaKqr9ELisEx",
        "outputId": "601e9e21-dde5-4728-fe54-17d7d17be5e7"
      },
      "execution_count": null,
      "outputs": [
        {
          "output_type": "execute_result",
          "data": {
            "text/plain": [
              "array([[-0.72186152,  0.41739385,  1.12265507, ..., -0.05182356,\n",
              "        -0.84543228,  0.84543228],\n",
              "       [-0.57018604,  1.14180313, -0.89070983, ..., -0.05182356,\n",
              "        -0.84543228,  0.84543228],\n",
              "       [ 0.17274289, -1.03142469, -0.89070983, ..., -0.05182356,\n",
              "        -0.84543228,  0.84543228],\n",
              "       ...,\n",
              "       [-0.78365523, -0.30701542, -0.89070983, ..., -0.05182356,\n",
              "         1.18282684, -1.18282684],\n",
              "       [ 3.27787687, -1.75583396,  1.12265507, ..., -0.05182356,\n",
              "         1.18282684, -1.18282684],\n",
              "       [-0.88336781,  0.41739385,  1.12265507, ..., -0.05182356,\n",
              "        -0.84543228,  0.84543228]])"
            ]
          },
          "metadata": {},
          "execution_count": 54
        }
      ]
    },
    {
      "cell_type": "code",
      "source": [
        "scaler.fit(X_test)\n",
        "scaled_Xt=scaler.transform(X_test)\n",
        "scaled_Xt"
      ],
      "metadata": {
        "colab": {
          "base_uri": "https://localhost:8080/"
        },
        "id": "BfCIJupq59P8",
        "outputId": "0df3aef9-8a46-4d5f-b098-d41669f6ca2c"
      },
      "execution_count": null,
      "outputs": [
        {
          "output_type": "execute_result",
          "data": {
            "text/plain": [
              "array([[-0.57093704,  1.14062192,  1.12227343, ..., -0.05114762,\n",
              "        -0.84398411,  0.84398411],\n",
              "       [-0.40169792,  0.41696119,  1.12227343, ..., -0.05114762,\n",
              "         1.18485643, -1.18485643],\n",
              "       [-0.05342897,  1.14062192,  1.12227343, ..., -0.05114762,\n",
              "        -0.84398411,  0.84398411],\n",
              "       ...,\n",
              "       [-1.45769412, -0.30669954, -0.89101719, ..., -0.05114762,\n",
              "        -0.84398411,  0.84398411],\n",
              "       [ 0.83192944,  1.14062192, -0.89101719, ..., -0.05114762,\n",
              "        -0.84398411,  0.84398411],\n",
              "       [ 0.10322212,  1.14062192, -0.89101719, ..., -0.05114762,\n",
              "        -0.84398411,  0.84398411]])"
            ]
          },
          "metadata": {},
          "execution_count": 55
        }
      ]
    },
    {
      "cell_type": "code",
      "source": [
        "from sklearn.decomposition import PCA"
      ],
      "metadata": {
        "id": "5-ojInnBisCm"
      },
      "execution_count": null,
      "outputs": []
    },
    {
      "cell_type": "code",
      "source": [
        "pca= PCA()"
      ],
      "metadata": {
        "id": "nr5sEuqTisAI"
      },
      "execution_count": null,
      "outputs": []
    },
    {
      "cell_type": "code",
      "source": [
        "pca.fit(scaled_X)\n",
        "\n",
        "explained_variance_ratio = pca.explained_variance_ratio_\n",
        "pc_vs_variance = np.cumsum(pca.explained_variance_ratio_)\n",
        "plt.plot(pc_vs_variance)\n",
        "plt.xlabel('Number of Components')\n",
        "plt.ylabel('% Explained Variance')\n",
        "plt.title('PCA Explained Variance vs. Number of Components')\n",
        "plt.show()"
      ],
      "metadata": {
        "colab": {
          "base_uri": "https://localhost:8080/",
          "height": 295
        },
        "id": "7oDV0CDBztZB",
        "outputId": "4522e09f-5272-474f-811d-fe025e80a37c"
      },
      "execution_count": null,
      "outputs": [
        {
          "output_type": "display_data",
          "data": {
            "image/png": "[encoded data removed]",
            "text/plain": [
              "<Figure size 432x288 with 1 Axes>"
            ]
          },
          "metadata": {
            "needs_background": "light"
          }
        }
      ]
    },
    {
      "cell_type": "code",
      "source": [
        "variance_95 = list(filter(lambda i: i > 0.95, pc_vs_variance))[0]\n",
        "component_95 = pc_vs_variance.tolist().index(variance_95)\n",
        "print(component_95)\n",
        "\n",
        "#perform the dimensionality reduction\n",
        "pca1 = PCA(n_components=component_95)\n",
        "xx_train = pca1.fit_transform(scaled_X)\n",
        "xx_test = pca1.transform(scaled_Xt)\n"
      ],
      "metadata": {
        "colab": {
          "base_uri": "https://localhost:8080/"
        },
        "id": "iudIhE8R59Ub",
        "outputId": "453a70d8-2cd2-4c08-fa3b-8601aad28cfa"
      },
      "execution_count": null,
      "outputs": [
        {
          "output_type": "stream",
          "name": "stdout",
          "text": [
            "23\n"
          ]
        }
      ]
    },
    {
      "cell_type": "markdown",
      "source": [
        "From above, We can see that we can eliminate ~9 columns from the dataframe while retaining 95% explained variance in the data."
      ],
      "metadata": {
        "id": "jUVRV7bZQpZK"
      }
    },
    {
      "cell_type": "code",
      "source": [
        "pc_df = pd.DataFrame(pca1.components_,columns=X_train.columns)\n",
        "top_pc = pc_df[0:1]\n",
        "display(top_pc)"
      ],
      "metadata": {
        "colab": {
          "base_uri": "https://localhost:8080/",
          "height": 214
        },
        "id": "f_RiAc0b59Xj",
        "outputId": "b39a3826-6ba1-4a52-d3f8-157bf8e5a667"
      },
      "execution_count": null,
      "outputs": [
        {
          "output_type": "display_data",
          "data": {
            "text/html": [
              "\n",
              "  <div id=\"df-f04c2451-55ad-40e1-b076-ebda13d940ab\">\n",
              "    <div class=\"colab-df-container\">\n",
              "      <div>\n",
              "<style scoped>\n",
              "    .dataframe tbody tr th:only-of-type {\n",
              "        vertical-align: middle;\n",
              "    }\n",
              "\n",
              "    .dataframe tbody tr th {\n",
              "        vertical-align: top;\n",
              "    }\n",
              "\n",
              "    .dataframe thead th {\n",
              "        text-align: right;\n",
              "    }\n",
              "</style>\n",
              "<table border=\"1\" class=\"dataframe\">\n",
              "  <thead>\n",
              "    <tr style=\"text-align: right;\">\n",
              "      <th></th>\n",
              "      <th>Facility Id</th>\n",
              "      <th>Age Group</th>\n",
              "      <th>Gender</th>\n",
              "      <th>Race</th>\n",
              "      <th>Type of Admission</th>\n",
              "      <th>CCS Diagnosis Code</th>\n",
              "      <th>CCS Procedure Code</th>\n",
              "      <th>APR DRG Code</th>\n",
              "      <th>APR MDC Code</th>\n",
              "      <th>APR Severity of Illness Code</th>\n",
              "      <th>APR Risk of Mortality</th>\n",
              "      <th>APR Medical Surgical Description</th>\n",
              "      <th>Health Service Area_Capital/Adirond</th>\n",
              "      <th>Health Service Area_Central NY</th>\n",
              "      <th>Health Service Area_Finger Lakes</th>\n",
              "      <th>Health Service Area_Hudson Valley</th>\n",
              "      <th>Health Service Area_Long Island</th>\n",
              "      <th>Health Service Area_New York City</th>\n",
              "      <th>Health Service Area_Southern Tier</th>\n",
              "      <th>Health Service Area_Western NY</th>\n",
              "      <th>Payment Typology 1_Blue Cross/Blue Shield</th>\n",
              "      <th>Payment Typology 1_Department of Corrections</th>\n",
              "      <th>Payment Typology 1_Federal/State/Local/VA</th>\n",
              "      <th>Payment Typology 1_Managed Care, Unspecified</th>\n",
              "      <th>Payment Typology 1_Medicaid</th>\n",
              "      <th>Payment Typology 1_Medicare</th>\n",
              "      <th>Payment Typology 1_Miscellaneous/Other</th>\n",
              "      <th>Payment Typology 1_Private Health Insurance</th>\n",
              "      <th>Payment Typology 1_Self-Pay</th>\n",
              "      <th>Payment Typology 1_Unknown</th>\n",
              "      <th>Emergency Department Indicator_N</th>\n",
              "      <th>Emergency Department Indicator_Y</th>\n",
              "    </tr>\n",
              "  </thead>\n",
              "  <tbody>\n",
              "    <tr>\n",
              "      <th>0</th>\n",
              "      <td>0.111789</td>\n",
              "      <td>-0.378071</td>\n",
              "      <td>-0.035225</td>\n",
              "      <td>0.088212</td>\n",
              "      <td>-0.019767</td>\n",
              "      <td>0.222586</td>\n",
              "      <td>0.141484</td>\n",
              "      <td>0.300066</td>\n",
              "      <td>0.298309</td>\n",
              "      <td>-0.28657</td>\n",
              "      <td>-0.337778</td>\n",
              "      <td>0.000097</td>\n",
              "      <td>-0.032246</td>\n",
              "      <td>-0.017552</td>\n",
              "      <td>-0.032685</td>\n",
              "      <td>-0.010489</td>\n",
              "      <td>-0.065272</td>\n",
              "      <td>0.112169</td>\n",
              "      <td>-0.022301</td>\n",
              "      <td>-0.02572</td>\n",
              "      <td>0.071127</td>\n",
              "      <td>0.00304</td>\n",
              "      <td>0.013902</td>\n",
              "      <td>0.007808</td>\n",
              "      <td>0.228482</td>\n",
              "      <td>-0.352448</td>\n",
              "      <td>0.003644</td>\n",
              "      <td>0.103838</td>\n",
              "      <td>0.026846</td>\n",
              "      <td>0.002088</td>\n",
              "      <td>0.297113</td>\n",
              "      <td>-0.297113</td>\n",
              "    </tr>\n",
              "  </tbody>\n",
              "</table>\n",
              "</div>\n",
              "      <button class=\"colab-df-convert\" onclick=\"convertToInteractive('df-f04c2451-55ad-40e1-b076-ebda13d940ab')\"\n",
              "              title=\"Convert this dataframe to an interactive table.\"\n",
              "              style=\"display:none;\">\n",
              "        \n",
              "  <svg xmlns=\"http://www.w3.org/2000/svg\" height=\"24px\"viewBox=\"0 0 24 24\"\n",
              "       width=\"24px\">\n",
              "    <path d=\"M0 0h24v24H0V0z\" fill=\"none\"/>\n",
              "    <path d=\"M18.56 5.44l.94 2.06.94-2.06 2.06-.94-2.06-.94-.94-2.06-.94 2.06-2.06.94zm-11 1L8.5 8.5l.94-2.06 2.06-.94-2.06-.94L8.5 2.5l-.94 2.06-2.06.94zm10 10l.94 2.06.94-2.06 2.06-.94-2.06-.94-.94-2.06-.94 2.06-2.06.94z\"/><path d=\"M17.41 7.96l-1.37-1.37c-.4-.4-.92-.59-1.43-.59-.52 0-1.04.2-1.43.59L10.3 9.45l-7.72 7.72c-.78.78-.78 2.05 0 2.83L4 21.41c.39.39.9.59 1.41.59.51 0 1.02-.2 1.41-.59l7.78-7.78 2.81-2.81c.8-.78.8-2.07 0-2.86zM5.41 20L4 18.59l7.72-7.72 1.47 1.35L5.41 20z\"/>\n",
              "  </svg>\n",
              "      </button>\n",
              "      \n",
              "  <style>\n",
              "    .colab-df-container {\n",
              "      display:flex;\n",
              "      flex-wrap:wrap;\n",
              "      gap: 12px;\n",
              "    }\n",
              "\n",
              "    .colab-df-convert {\n",
              "      background-color: #E8F0FE;\n",
              "      border: none;\n",
              "      border-radius: 50%;\n",
              "      cursor: pointer;\n",
              "      display: none;\n",
              "      fill: #1967D2;\n",
              "      height: 32px;\n",
              "      padding: 0 0 0 0;\n",
              "      width: 32px;\n",
              "    }\n",
              "\n",
              "    .colab-df-convert:hover {\n",
              "      background-color: #E2EBFA;\n",
              "      box-shadow: 0px 1px 2px rgba(60, 64, 67, 0.3), 0px 1px 3px 1px rgba(60, 64, 67, 0.15);\n",
              "      fill: #174EA6;\n",
              "    }\n",
              "\n",
              "    [theme=dark] .colab-df-convert {\n",
              "      background-color: #3B4455;\n",
              "      fill: #D2E3FC;\n",
              "    }\n",
              "\n",
              "    [theme=dark] .colab-df-convert:hover {\n",
              "      background-color: #434B5C;\n",
              "      box-shadow: 0px 1px 3px 1px rgba(0, 0, 0, 0.15);\n",
              "      filter: drop-shadow(0px 1px 2px rgba(0, 0, 0, 0.3));\n",
              "      fill: #FFFFFF;\n",
              "    }\n",
              "  </style>\n",
              "\n",
              "      <script>\n",
              "        const buttonEl =\n",
              "          document.querySelector('#df-f04c2451-55ad-40e1-b076-ebda13d940ab button.colab-df-convert');\n",
              "        buttonEl.style.display =\n",
              "          google.colab.kernel.accessAllowed ? 'block' : 'none';\n",
              "\n",
              "        async function convertToInteractive(key) {\n",
              "          const element = document.querySelector('#df-f04c2451-55ad-40e1-b076-ebda13d940ab');\n",
              "          const dataTable =\n",
              "            await google.colab.kernel.invokeFunction('convertToInteractive',\n",
              "                                                     [key], {});\n",
              "          if (!dataTable) return;\n",
              "\n",
              "          const docLinkHtml = 'Like what you see? Visit the ' +\n",
              "            '<a target=\"_blank\" href=https://colab.research.google.com/notebooks/data_table.ipynb>data table notebook</a>'\n",
              "            + ' to learn more about interactive tables.';\n",
              "          element.innerHTML = '';\n",
              "          dataTable['output_type'] = 'display_data';\n",
              "          await google.colab.output.renderOutput(dataTable, element);\n",
              "          const docLink = document.createElement('div');\n",
              "          docLink.innerHTML = docLinkHtml;\n",
              "          element.appendChild(docLink);\n",
              "        }\n",
              "      </script>\n",
              "    </div>\n",
              "  </div>\n",
              "  "
            ],
            "text/plain": [
              "   Facility Id  ...  Emergency Department Indicator_Y\n",
              "0     0.111789  ...                         -0.297113\n",
              "\n",
              "[1 rows x 32 columns]"
            ]
          },
          "metadata": {}
        }
      ]
    },
    {
      "cell_type": "markdown",
      "source": [
        "Top 10 features that influence the length of stay most as obtained by pca are listed as follows:"
      ],
      "metadata": {
        "id": "s4vhMcrIfxRZ"
      }
    },
    {
      "cell_type": "code",
      "source": [
        "new_top_pc = top_pc.abs()\n",
        "features = []\n",
        "for i in range(0,10):\n",
        "  features.append(new_top_pc.idxmax(axis=1).tolist())\n",
        "  new_top_pc = new_top_pc.drop(columns=features[i])\n",
        "print(features)"
      ],
      "metadata": {
        "colab": {
          "base_uri": "https://localhost:8080/"
        },
        "id": "Ign9MZ7QfTZb",
        "outputId": "47de3035-5d9b-497b-db36-dc10ecdbfc93"
      },
      "execution_count": null,
      "outputs": [
        {
          "output_type": "stream",
          "name": "stdout",
          "text": [
            "[['Age Group'], ['Payment Typology 1_Medicare'], ['APR Risk of Mortality'], ['APR DRG Code'], ['APR MDC Code'], ['Emergency Department Indicator_Y'], ['Emergency Department Indicator_N'], ['APR Severity of Illness Code'], ['Payment Typology 1_Medicaid'], ['CCS Diagnosis Code']]\n"
          ]
        }
      ]
    },
    {
      "cell_type": "markdown",
      "source": [
        "Linear regression using PCA"
      ],
      "metadata": {
        "id": "UnSxLgsIf-XJ"
      }
    },
    {
      "cell_type": "code",
      "source": [
        "regr = LinearRegression().fit(xx_train, y_train)\n",
        "y_train_pred = regr.predict(xx_train)\n",
        "y_pred = regr.predict(xx_test)\n",
        "mse_test = mean_squared_error(y_test, y_pred)\n",
        "mse_train = mean_squared_error(y_train, y_train_pred)\n",
        "y_round_pred = np.ndarray.round(y_pred)\n",
        "y_round_train_pred = np.ndarray.round(y_train_pred)\n",
        "test_acc = accuracy_score(y_test, y_round_pred)\n",
        "train_acc = accuracy_score(y_train, y_round_train_pred)\n",
        "print(mse_test)\n",
        "print(mse_train)\n",
        "print('Test accuracy:', test_acc)\n",
        "print('Train accuracy:', train_acc)"
      ],
      "metadata": {
        "colab": {
          "base_uri": "https://localhost:8080/"
        },
        "id": "l_qyXr_X59aW",
        "outputId": "f33f84bb-ad60-4864-d4c9-6daa070f94b9"
      },
      "execution_count": null,
      "outputs": [
        {
          "output_type": "stream",
          "name": "stdout",
          "text": [
            "55.104986218712014\n",
            "54.35155055124009\n",
            "Test accuracy: 0.12747547244923568\n",
            "Train accuracy: 0.12675124744699895\n"
          ]
        }
      ]
    },
    {
      "cell_type": "markdown",
      "source": [
        "Even after using PCA, linear regression model doesn't work great to fit and predict the length of stay. Hence PCA and linear regression model is a bad choice for the problem in hand."
      ],
      "metadata": {
        "id": "5uwIYYcecHTO"
      }
    },
    {
      "cell_type": "markdown",
      "source": [
        "#Random Forest Classifier"
      ],
      "metadata": {
        "id": "Hp7AM8H-b_OD"
      }
    },
    {
      "cell_type": "markdown",
      "source": [
        "Let us try Random Forest classifier for the given problem."
      ],
      "metadata": {
        "id": "9tzWcHSDceOg"
      }
    },
    {
      "cell_type": "code",
      "source": [
        "from sklearn.ensemble import RandomForestClassifier\n",
        "from sklearn import metrics\n"
      ],
      "metadata": {
        "id": "Gon37QErisIk"
      },
      "execution_count": null,
      "outputs": []
    },
    {
      "cell_type": "code",
      "source": [
        "rf= RandomForestClassifier(n_estimators=150, max_depth=10, class_weight='balanced')"
      ],
      "metadata": {
        "id": "L-p2ekdiztc5"
      },
      "execution_count": null,
      "outputs": []
    },
    {
      "cell_type": "code",
      "source": [
        "X = bd10.drop(['Length of Stay','Total Charges','Total Costs'], axis=1) #remove data leakage features\n",
        "y = bd10[['Length of Stay']]\n",
        "X_train, X_test, y_train, y_test = train_test_split(X, y, test_size=0.3)\n"
      ],
      "metadata": {
        "id": "qxAjdNNDxWp5"
      },
      "execution_count": null,
      "outputs": []
    },
    {
      "cell_type": "code",
      "source": [
        "rf.fit(X_train,y_train)\n"
      ],
      "metadata": {
        "colab": {
          "base_uri": "https://localhost:8080/"
        },
        "id": "XJy-s46Cztku",
        "outputId": "a03bb9eb-eaed-4f79-997d-ce6410e55439"
      },
      "execution_count": null,
      "outputs": [
        {
          "output_type": "execute_result",
          "data": {
            "text/plain": [
              "RandomForestClassifier(class_weight='balanced', max_depth=10, n_estimators=150)"
            ]
          },
          "metadata": {},
          "execution_count": 65
        }
      ]
    },
    {
      "cell_type": "code",
      "source": [
        "\n",
        "train_predictions = rf.predict(X_train)\n",
        "test_predictions = rf.predict(X_test)\n",
        "print(\"Train Accuracy:\",metrics.accuracy_score(y_train, train_predictions))\n",
        "print(\"Test Accuracy:\",metrics.accuracy_score(y_test, test_predictions))"
      ],
      "metadata": {
        "colab": {
          "base_uri": "https://localhost:8080/"
        },
        "id": "5aM3oZvdxdet",
        "outputId": "8af95f02-5b8a-4657-ba59-64be33cfdaba"
      },
      "execution_count": null,
      "outputs": [
        {
          "output_type": "stream",
          "name": "stdout",
          "text": [
            "Train Accuracy: 0.24909192287340576\n",
            "Test Accuracy: 0.24186862290891992\n"
          ]
        }
      ]
    },
    {
      "cell_type": "markdown",
      "source": [
        "Random Forest classifier works better than the linear regression models, however, it is still not satisfactory to model the given dataset."
      ],
      "metadata": {
        "id": "DIsFepAxct4O"
      }
    },
    {
      "cell_type": "code",
      "source": [],
      "metadata": {
        "id": "ORzCYoeQl_PU"
      },
      "execution_count": null,
      "outputs": []
    },
    {
      "cell_type": "code",
      "source": [],
      "metadata": {
        "id": "0wwugjrWl-21"
      },
      "execution_count": null,
      "outputs": []
    },
    {
      "cell_type": "markdown",
      "source": [
        "# References\n",
        "[1]  https://github.com/vtien/Predicting-Hospital-Stay-Project/blob/master/Hospital_Stay_Project_Blog_Edits.ipynb\n",
        "\n",
        "[2]  https://www.coursera.org/learn/machine-learning-with-python/home/welcome\n",
        "\n",
        "[3]  https://www-doh.state.nj.us/doh-shad/query/MDCtable.html\n",
        "\n",
        "[4]  https://www.findacode.com/drg/drg-diagnosis-related-group-codes.html\n",
        "\n",
        "\n"
      ],
      "metadata": {
        "id": "oX-TfVKFTL2d"
      }
    }
  ]
}